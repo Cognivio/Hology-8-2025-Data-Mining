{
  "cells": [
    {
      "cell_type": "markdown",
      "metadata": {
        "colab_type": "text",
        "id": "view-in-github"
      },
      "source": [
        "<a href=\"https://colab.research.google.com/github/FarrelAD/Hology-8-2025-Data-Mining-PRIVATE/blob/main/notebooks/simple-train-small-case-2.ipynb\" target=\"_parent\"><img src=\"https://colab.research.google.com/assets/colab-badge.svg\" alt=\"Open In Colab\"/></a>"
      ]
    },
    {
      "cell_type": "markdown",
      "id": "e6bef876",
      "metadata": {
        "id": "e6bef876"
      },
      "source": [
        "# Improved People Counting with Density Maps\n",
        "This notebook demonstrates an improved approach for counting people in images by switching from bounding box detection to density map estimation. This method is more effective for counting tasks, especially with a limited dataset.\n",
        "\n",
        "**Key Improvements:**\n",
        "1.  **Task Formulation**: Changed from single-object detection to density map regression.\n",
        "2.  **Data Preprocessing**: A new `Dataset` class generates ground truth density maps from head coordinates provided in JSON files.\n",
        "3.  **Model Architecture**: Replaced the simple detector with a Fully Convolutional Network (FCN) suitable for producing density maps.\n",
        "4.  **Loss Function**: Using Mean Squared Error (MSE) between the predicted and ground truth density maps.\n",
        "5.  **Evaluation**: Implemented Mean Absolute Error (MAE) to measure counting accuracy."
      ]
    },
    {
      "cell_type": "markdown",
      "id": "bbfca240",
      "metadata": {
        "id": "bbfca240"
      },
      "source": [
        "## 1. Setup and Imports"
      ]
    },
    {
      "cell_type": "code",
      "execution_count": 1,
      "id": "b525b16c",
      "metadata": {
        "colab": {
          "base_uri": "https://localhost:8080/"
        },
        "id": "b525b16c",
        "outputId": "7705a094-5b03-4ef6-e75d-ed2424cb3d2f"
      },
      "outputs": [
        {
          "name": "stdout",
          "output_type": "stream",
          "text": [
            "Using device: cuda\n"
          ]
        }
      ],
      "source": [
        "import numpy as np\n",
        "import cv2\n",
        "import os\n",
        "import json\n",
        "import pandas as pd\n",
        "import matplotlib.pyplot as plt\n",
        "import torch\n",
        "import torch.nn as nn\n",
        "import torch.optim as optim\n",
        "from torch.utils.data import Dataset, DataLoader\n",
        "from PIL import Image\n",
        "from scipy.ndimage import gaussian_filter\n",
        "import warnings\n",
        "\n",
        "warnings.filterwarnings('ignore')\n",
        "\n",
        "# Set device\n",
        "device = torch.device('cuda' if torch.cuda.is_available() else 'cpu')\n",
        "print(f\"Using device: {device}\")"
      ]
    },
    {
      "cell_type": "markdown",
      "id": "i_pnDxU9BxJX",
      "metadata": {
        "id": "i_pnDxU9BxJX"
      },
      "source": [
        "### Download dataset"
      ]
    },
    {
      "cell_type": "code",
      "execution_count": 2,
      "id": "yB-9NaHsCBdZ",
      "metadata": {
        "colab": {
          "base_uri": "https://localhost:8080/",
          "height": 91
        },
        "id": "yB-9NaHsCBdZ",
        "outputId": "48f4ed8a-8547-4ab4-c4d6-21a8e0cb3ae1"
      },
      "outputs": [
        {
          "data": {
            "text/html": [
              "\n",
              "     <input type=\"file\" id=\"files-3ae8003e-f68d-4385-8f05-280e1b4fe00d\" name=\"files[]\" multiple disabled\n",
              "        style=\"border:none\" />\n",
              "     <output id=\"result-3ae8003e-f68d-4385-8f05-280e1b4fe00d\">\n",
              "      Upload widget is only available when the cell has been executed in the\n",
              "      current browser session. Please rerun this cell to enable.\n",
              "      </output>\n",
              "      <script>// Copyright 2017 Google LLC\n",
              "//\n",
              "// Licensed under the Apache License, Version 2.0 (the \"License\");\n",
              "// you may not use this file except in compliance with the License.\n",
              "// You may obtain a copy of the License at\n",
              "//\n",
              "//      http://www.apache.org/licenses/LICENSE-2.0\n",
              "//\n",
              "// Unless required by applicable law or agreed to in writing, software\n",
              "// distributed under the License is distributed on an \"AS IS\" BASIS,\n",
              "// WITHOUT WARRANTIES OR CONDITIONS OF ANY KIND, either express or implied.\n",
              "// See the License for the specific language governing permissions and\n",
              "// limitations under the License.\n",
              "\n",
              "/**\n",
              " * @fileoverview Helpers for google.colab Python module.\n",
              " */\n",
              "(function(scope) {\n",
              "function span(text, styleAttributes = {}) {\n",
              "  const element = document.createElement('span');\n",
              "  element.textContent = text;\n",
              "  for (const key of Object.keys(styleAttributes)) {\n",
              "    element.style[key] = styleAttributes[key];\n",
              "  }\n",
              "  return element;\n",
              "}\n",
              "\n",
              "// Max number of bytes which will be uploaded at a time.\n",
              "const MAX_PAYLOAD_SIZE = 100 * 1024;\n",
              "\n",
              "function _uploadFiles(inputId, outputId) {\n",
              "  const steps = uploadFilesStep(inputId, outputId);\n",
              "  const outputElement = document.getElementById(outputId);\n",
              "  // Cache steps on the outputElement to make it available for the next call\n",
              "  // to uploadFilesContinue from Python.\n",
              "  outputElement.steps = steps;\n",
              "\n",
              "  return _uploadFilesContinue(outputId);\n",
              "}\n",
              "\n",
              "// This is roughly an async generator (not supported in the browser yet),\n",
              "// where there are multiple asynchronous steps and the Python side is going\n",
              "// to poll for completion of each step.\n",
              "// This uses a Promise to block the python side on completion of each step,\n",
              "// then passes the result of the previous step as the input to the next step.\n",
              "function _uploadFilesContinue(outputId) {\n",
              "  const outputElement = document.getElementById(outputId);\n",
              "  const steps = outputElement.steps;\n",
              "\n",
              "  const next = steps.next(outputElement.lastPromiseValue);\n",
              "  return Promise.resolve(next.value.promise).then((value) => {\n",
              "    // Cache the last promise value to make it available to the next\n",
              "    // step of the generator.\n",
              "    outputElement.lastPromiseValue = value;\n",
              "    return next.value.response;\n",
              "  });\n",
              "}\n",
              "\n",
              "/**\n",
              " * Generator function which is called between each async step of the upload\n",
              " * process.\n",
              " * @param {string} inputId Element ID of the input file picker element.\n",
              " * @param {string} outputId Element ID of the output display.\n",
              " * @return {!Iterable<!Object>} Iterable of next steps.\n",
              " */\n",
              "function* uploadFilesStep(inputId, outputId) {\n",
              "  const inputElement = document.getElementById(inputId);\n",
              "  inputElement.disabled = false;\n",
              "\n",
              "  const outputElement = document.getElementById(outputId);\n",
              "  outputElement.innerHTML = '';\n",
              "\n",
              "  const pickedPromise = new Promise((resolve) => {\n",
              "    inputElement.addEventListener('change', (e) => {\n",
              "      resolve(e.target.files);\n",
              "    });\n",
              "  });\n",
              "\n",
              "  const cancel = document.createElement('button');\n",
              "  inputElement.parentElement.appendChild(cancel);\n",
              "  cancel.textContent = 'Cancel upload';\n",
              "  const cancelPromise = new Promise((resolve) => {\n",
              "    cancel.onclick = () => {\n",
              "      resolve(null);\n",
              "    };\n",
              "  });\n",
              "\n",
              "  // Wait for the user to pick the files.\n",
              "  const files = yield {\n",
              "    promise: Promise.race([pickedPromise, cancelPromise]),\n",
              "    response: {\n",
              "      action: 'starting',\n",
              "    }\n",
              "  };\n",
              "\n",
              "  cancel.remove();\n",
              "\n",
              "  // Disable the input element since further picks are not allowed.\n",
              "  inputElement.disabled = true;\n",
              "\n",
              "  if (!files) {\n",
              "    return {\n",
              "      response: {\n",
              "        action: 'complete',\n",
              "      }\n",
              "    };\n",
              "  }\n",
              "\n",
              "  for (const file of files) {\n",
              "    const li = document.createElement('li');\n",
              "    li.append(span(file.name, {fontWeight: 'bold'}));\n",
              "    li.append(span(\n",
              "        `(${file.type || 'n/a'}) - ${file.size} bytes, ` +\n",
              "        `last modified: ${\n",
              "            file.lastModifiedDate ? file.lastModifiedDate.toLocaleDateString() :\n",
              "                                    'n/a'} - `));\n",
              "    const percent = span('0% done');\n",
              "    li.appendChild(percent);\n",
              "\n",
              "    outputElement.appendChild(li);\n",
              "\n",
              "    const fileDataPromise = new Promise((resolve) => {\n",
              "      const reader = new FileReader();\n",
              "      reader.onload = (e) => {\n",
              "        resolve(e.target.result);\n",
              "      };\n",
              "      reader.readAsArrayBuffer(file);\n",
              "    });\n",
              "    // Wait for the data to be ready.\n",
              "    let fileData = yield {\n",
              "      promise: fileDataPromise,\n",
              "      response: {\n",
              "        action: 'continue',\n",
              "      }\n",
              "    };\n",
              "\n",
              "    // Use a chunked sending to avoid message size limits. See b/62115660.\n",
              "    let position = 0;\n",
              "    do {\n",
              "      const length = Math.min(fileData.byteLength - position, MAX_PAYLOAD_SIZE);\n",
              "      const chunk = new Uint8Array(fileData, position, length);\n",
              "      position += length;\n",
              "\n",
              "      const base64 = btoa(String.fromCharCode.apply(null, chunk));\n",
              "      yield {\n",
              "        response: {\n",
              "          action: 'append',\n",
              "          file: file.name,\n",
              "          data: base64,\n",
              "        },\n",
              "      };\n",
              "\n",
              "      let percentDone = fileData.byteLength === 0 ?\n",
              "          100 :\n",
              "          Math.round((position / fileData.byteLength) * 100);\n",
              "      percent.textContent = `${percentDone}% done`;\n",
              "\n",
              "    } while (position < fileData.byteLength);\n",
              "  }\n",
              "\n",
              "  // All done.\n",
              "  yield {\n",
              "    response: {\n",
              "      action: 'complete',\n",
              "    }\n",
              "  };\n",
              "}\n",
              "\n",
              "scope.google = scope.google || {};\n",
              "scope.google.colab = scope.google.colab || {};\n",
              "scope.google.colab._files = {\n",
              "  _uploadFiles,\n",
              "  _uploadFilesContinue,\n",
              "};\n",
              "})(self);\n",
              "</script> "
            ],
            "text/plain": [
              "<IPython.core.display.HTML object>"
            ]
          },
          "metadata": {},
          "output_type": "display_data"
        },
        {
          "name": "stdout",
          "output_type": "stream",
          "text": [
            "Saving kaggle.json to kaggle.json\n",
            "User uploaded file \"kaggle.json\" with length 64 bytes\n"
          ]
        }
      ],
      "source": [
        "!pip install -q kaggle\n",
        "\n",
        "from google.colab import files\n",
        "\n",
        "uploaded = files.upload()\n",
        "\n",
        "for fn in uploaded.keys():\n",
        "  print('User uploaded file \"{name}\" with length {length} bytes'.format(\n",
        "      name=fn, length=len(uploaded[fn])))\n",
        "\n",
        "# Then move kaggle.json into the folder where the API expects to find it.\n",
        "!mkdir -p ~/.kaggle/ && mv kaggle.json ~/.kaggle/ && chmod 600 ~/.kaggle/kaggle.json"
      ]
    },
    {
      "cell_type": "markdown",
      "id": "yA1dZvnRB50e",
      "metadata": {
        "id": "yA1dZvnRB50e"
      },
      "source": [
        "#### Session storage"
      ]
    },
    {
      "cell_type": "code",
      "execution_count": null,
      "id": "NW4zzSj4BykD",
      "metadata": {
        "id": "NW4zzSj4BykD"
      },
      "outputs": [],
      "source": [
        "!kaggle competitions download -c penyisihan-hology-8-0-2025-data-mining\n",
        "\n",
        "import zipfile\n",
        "import os\n",
        "\n",
        "zip_path = \"/content/penyisihan-hology-8-0-2025-data-mining.zip\"\n",
        "\n",
        "with zipfile.ZipFile(zip_path, 'r') as zip_ref:\n",
        "    zip_ref.extractall(\"/content/dataset\")"
      ]
    },
    {
      "cell_type": "markdown",
      "id": "Re-XHXTfB8yh",
      "metadata": {
        "id": "Re-XHXTfB8yh"
      },
      "source": [
        "#### Google Drive (recommended)"
      ]
    },
    {
      "cell_type": "code",
      "execution_count": 5,
      "id": "UuhEDhRRBzk3",
      "metadata": {
        "colab": {
          "base_uri": "https://localhost:8080/"
        },
        "id": "UuhEDhRRBzk3",
        "outputId": "34651a23-afc9-4771-b8ef-24e8a5aa46cb"
      },
      "outputs": [
        {
          "name": "stdout",
          "output_type": "stream",
          "text": [
            "Drive already mounted at /content/drive; to attempt to forcibly remount, call drive.mount(\"/content/drive\", force_remount=True).\n",
            "Dataset already exists, skipping download.\n",
            "Dataset already extracted at: /content/drive/MyDrive/PROJECTS/Cognivio/Percobaan Hology 8 2025/dataset\n"
          ]
        }
      ],
      "source": [
        "# @title\n",
        "import zipfile\n",
        "import os\n",
        "from google.colab import drive\n",
        "\n",
        "# Mount Google Drive\n",
        "drive.mount('/content/drive')\n",
        "\n",
        "# Paths\n",
        "zip_path = \"/content/penyisihan-hology-8-0-2025-data-mining.zip\"\n",
        "extract_path = \"/content/drive/MyDrive/PROJECTS/Cognivio/Percobaan Hology 8 2025/dataset\"\n",
        "\n",
        "# Check if dataset already downloaded\n",
        "if not os.path.exists(zip_path):\n",
        "    print(\"Dataset not found, downloading...\")\n",
        "    !kaggle competitions download -c penyisihan-hology-8-0-2025-data-mining -p /content\n",
        "else:\n",
        "    print(\"Dataset already exists, skipping download.\")\n",
        "\n",
        "# Ensure extract directory exists\n",
        "os.makedirs(extract_path, exist_ok=True)\n",
        "\n",
        "# Extract only if not already extracted\n",
        "if not os.listdir(extract_path):  # Check if folder is empty\n",
        "    print(\"Extracting dataset...\")\n",
        "    with zipfile.ZipFile(zip_path, 'r') as zip_ref:\n",
        "        zip_ref.extractall(extract_path)\n",
        "    print(\"Dataset extracted to:\", extract_path)\n",
        "else:\n",
        "    print(\"Dataset already extracted at:\", extract_path)\n"
      ]
    },
    {
      "cell_type": "markdown",
      "id": "2bc0509b",
      "metadata": {
        "id": "2bc0509b"
      },
      "source": [
        "## 2. Dataset and Density Map Generation\n",
        "We define a custom dataset that reads images and their corresponding JSON labels. For each image, it generates a ground truth density map by applying a Gaussian kernel to each annotated head position."
      ]
    },
    {
      "cell_type": "code",
      "execution_count": 21,
      "id": "8ff2015f",
      "metadata": {
        "id": "8ff2015f"
      },
      "outputs": [],
      "source": [
        "class CrowdCountingDataset(Dataset):\n",
        "    def __init__(self, image_dir, label_dir, max_samples=50, img_size=224, downscale_factor=16, sigma=4):\n",
        "        self.image_dir = image_dir\n",
        "        self.label_dir = label_dir\n",
        "        self.img_size = img_size\n",
        "        self.downscale_factor = downscale_factor\n",
        "        self.sigma = sigma\n",
        "\n",
        "        all_images = sorted([f for f in os.listdir(image_dir) if f.endswith('.jpg')])\n",
        "        self.image_files = all_images[:max_samples]\n",
        "        self.labels = self._load_labels()\n",
        "\n",
        "        print(f\"Using {len(self.image_files)} images for training.\")\n",
        "\n",
        "    def _load_labels(self):\n",
        "        labels = {}\n",
        "        for img_file in self.image_files:\n",
        "            label_file = img_file.replace('.jpg', '.json')\n",
        "            label_path = os.path.join(self.label_dir, label_file)\n",
        "            if os.path.exists(label_path):\n",
        "                with open(label_path, 'r') as f:\n",
        "                    data = json.load(f)\n",
        "                    labels[img_file] = data\n",
        "        return labels\n",
        "\n",
        "    def __len__(self):\n",
        "        return len(self.image_files)\n",
        "\n",
        "    def __getitem__(self, idx):\n",
        "        img_name = self.image_files[idx]\n",
        "        img_path = os.path.join(self.image_dir, img_name)\n",
        "\n",
        "        # Load and resize image\n",
        "        image = cv2.imread(img_path)\n",
        "        image = cv2.cvtColor(image, cv2.COLOR_BGR2RGB)\n",
        "        orig_h, orig_w = image.shape[:2]\n",
        "        image = cv2.resize(image, (self.img_size, self.img_size))\n",
        "        image_tensor = torch.from_numpy(image).permute(2, 0, 1).float() / 255.0\n",
        "\n",
        "        # Generate density map\n",
        "        output_size = self.img_size // self.downscale_factor\n",
        "        density_map = np.zeros((output_size, output_size), dtype=np.float32)\n",
        "\n",
        "        label_data = self.labels.get(img_name)\n",
        "        if label_data and label_data['human_num'] > 0:\n",
        "            points = np.array(label_data['points'])\n",
        "            for x, y in points:\n",
        "                # print(type(x))\n",
        "                # print(type(y))\n",
        "\n",
        "                # Scale coordinates to the output map size\n",
        "                scaled_x = int((x / orig_w) * output_size)\n",
        "                scaled_y = int((y / orig_h) * output_size)\n",
        "                if 0 <= scaled_x < output_size and 0 <= scaled_y < output_size:\n",
        "                    density_map[scaled_y, scaled_x] = 1.0\n",
        "\n",
        "        # Apply Gaussian filter to create the density map\n",
        "        density_map = gaussian_filter(density_map, sigma=self.sigma / self.downscale_factor)\n",
        "        density_map_tensor = torch.from_numpy(density_map).unsqueeze(0) # Add channel dimension\n",
        "\n",
        "        return image_tensor, density_map_tensor"
      ]
    },
    {
      "cell_type": "markdown",
      "id": "eISxsP0ofUm9",
      "metadata": {
        "id": "eISxsP0ofUm9"
      },
      "source": [
        "The correct dataset class configuration"
      ]
    },
    {
      "cell_type": "code",
      "execution_count": 32,
      "id": "qRXS92qHfTni",
      "metadata": {
        "id": "qRXS92qHfTni"
      },
      "outputs": [],
      "source": [
        "class CrowdCountingDataset(Dataset):\n",
        "    def __init__(self, image_dir, label_dir, max_samples=50, img_size=224,\n",
        "                 downscale_factor=16, sigma=4, transform=None, return_meta=False):\n",
        "        self.image_dir = image_dir\n",
        "        self.label_dir = label_dir\n",
        "        self.img_size = img_size\n",
        "        self.downscale_factor = downscale_factor\n",
        "        self.sigma = sigma\n",
        "        self.transform = transform\n",
        "        self.return_meta = return_meta  # whether to return metadata\n",
        "\n",
        "        all_images = sorted([f for f in os.listdir(image_dir) if f.endswith('.jpg')])\n",
        "        self.image_files = all_images[:max_samples]\n",
        "        self.labels = self._load_labels()\n",
        "\n",
        "        print(f\"Using {len(self.image_files)} images for training.\")\n",
        "\n",
        "    def _load_labels(self):\n",
        "        \"\"\"Load labels from JSON files into a dict.\"\"\"\n",
        "        labels = {}\n",
        "        for img_file in self.image_files:\n",
        "            label_file = img_file.replace('.jpg', '.json')\n",
        "            label_path = os.path.join(self.label_dir, label_file)\n",
        "            if os.path.exists(label_path):\n",
        "                with open(label_path, 'r') as f:\n",
        "                    data = json.load(f)\n",
        "                    labels[img_file] = data\n",
        "        return labels\n",
        "\n",
        "    def __len__(self):\n",
        "        return len(self.image_files)\n",
        "\n",
        "    def __getitem__(self, idx):\n",
        "        img_name = self.image_files[idx]\n",
        "        img_path = os.path.join(self.image_dir, img_name)\n",
        "\n",
        "        # ---- Load and resize image ----\n",
        "        image = cv2.imread(img_path)\n",
        "        image = cv2.cvtColor(image, cv2.COLOR_BGR2RGB)\n",
        "        orig_h, orig_w = image.shape[:2]\n",
        "        image = cv2.resize(image, (self.img_size, self.img_size))\n",
        "        image_tensor = torch.from_numpy(image).permute(2, 0, 1).float() / 255.0\n",
        "\n",
        "        # Apply transforms if provided (e.g., augmentations, normalization)\n",
        "        if self.transform:\n",
        "            image_tensor = self.transform(image_tensor)\n",
        "\n",
        "        # ---- Generate density map ----\n",
        "        output_size = self.img_size // self.downscale_factor\n",
        "        density_map = np.zeros((output_size, output_size), dtype=np.float32)\n",
        "\n",
        "        label_data = self.labels.get(img_name)\n",
        "        if label_data and label_data.get(\"human_num\", 0) > 0:\n",
        "            raw_points = label_data[\"points\"]\n",
        "\n",
        "            # Ensure points are extracted correctly\n",
        "            points = np.array([[p[\"x\"], p[\"y\"]] for p in raw_points], dtype=np.float32)\n",
        "\n",
        "            for x, y in points:\n",
        "                scaled_x = (x / orig_w) * output_size\n",
        "                scaled_y = (y / orig_h) * output_size\n",
        "\n",
        "                ix, iy = int(scaled_x), int(scaled_y)\n",
        "                if 0 <= ix < output_size and 0 <= iy < output_size:\n",
        "                    density_map[iy, ix] += 1.0\n",
        "\n",
        "\n",
        "        # Smooth with Gaussian filter\n",
        "        density_map = gaussian_filter(\n",
        "            density_map, sigma=self.sigma / self.downscale_factor\n",
        "        )\n",
        "        density_map_tensor = torch.from_numpy(density_map).unsqueeze(0)  # [1, H, W]\n",
        "\n",
        "        # Also compute crowd count\n",
        "        count = float(density_map_tensor.sum())\n",
        "\n",
        "        if self.return_meta:\n",
        "            return {\n",
        "                \"image\": image_tensor,\n",
        "                \"density\": density_map_tensor,\n",
        "                \"count\": count,\n",
        "                \"name\": img_name,\n",
        "                \"orig_size\": (orig_h, orig_w),\n",
        "            }\n",
        "        else:\n",
        "            return image_tensor, density_map_tensor"
      ]
    },
    {
      "cell_type": "markdown",
      "id": "ce404225",
      "metadata": {
        "id": "ce404225"
      },
      "source": [
        "## 3. Fully Convolutional Network (FCN) for Density Estimation\n",
        "This FCN model uses a simple CNN backbone to extract features and then a `1x1` convolution to produce a single-channel density map. The output map is 1/16th the size of the input image."
      ]
    },
    {
      "cell_type": "code",
      "execution_count": 33,
      "id": "a1f87c5b",
      "metadata": {
        "colab": {
          "base_uri": "https://localhost:8080/"
        },
        "id": "a1f87c5b",
        "outputId": "ea538f4d-5d89-44c1-bc1b-98db2b135214"
      },
      "outputs": [
        {
          "name": "stdout",
          "output_type": "stream",
          "text": [
            "Model parameters: 97,569\n",
            "Model architecture:\n",
            "DensityFCN(\n",
            "  (backbone): Sequential(\n",
            "    (0): Conv2d(3, 16, kernel_size=(3, 3), stride=(1, 1), padding=(1, 1))\n",
            "    (1): ReLU()\n",
            "    (2): MaxPool2d(kernel_size=2, stride=2, padding=0, dilation=1, ceil_mode=False)\n",
            "    (3): Conv2d(16, 32, kernel_size=(3, 3), stride=(1, 1), padding=(1, 1))\n",
            "    (4): ReLU()\n",
            "    (5): MaxPool2d(kernel_size=2, stride=2, padding=0, dilation=1, ceil_mode=False)\n",
            "    (6): Conv2d(32, 64, kernel_size=(3, 3), stride=(1, 1), padding=(1, 1))\n",
            "    (7): ReLU()\n",
            "    (8): MaxPool2d(kernel_size=2, stride=2, padding=0, dilation=1, ceil_mode=False)\n",
            "    (9): Conv2d(64, 128, kernel_size=(3, 3), stride=(1, 1), padding=(1, 1))\n",
            "    (10): ReLU()\n",
            "    (11): MaxPool2d(kernel_size=2, stride=2, padding=0, dilation=1, ceil_mode=False)\n",
            "  )\n",
            "  (head): Conv2d(128, 1, kernel_size=(1, 1), stride=(1, 1))\n",
            ")\n"
          ]
        }
      ],
      "source": [
        "class DensityFCN(nn.Module):\n",
        "    def __init__(self):\n",
        "        super(DensityFCN, self).__init__()\n",
        "        # Backbone: Feature extractor\n",
        "        self.backbone = nn.Sequential(\n",
        "            nn.Conv2d(3, 16, 3, padding=1), nn.ReLU(),\n",
        "            nn.MaxPool2d(2),  # 224 -> 112\n",
        "            nn.Conv2d(16, 32, 3, padding=1), nn.ReLU(),\n",
        "            nn.MaxPool2d(2),  # 112 -> 56\n",
        "            nn.Conv2d(32, 64, 3, padding=1), nn.ReLU(),\n",
        "            nn.MaxPool2d(2),  # 56 -> 28\n",
        "            nn.Conv2d(64, 128, 3, padding=1), nn.ReLU(),\n",
        "            nn.MaxPool2d(2),  # 28 -> 14\n",
        "        )\n",
        "        # Head: Density map predictor\n",
        "        self.head = nn.Conv2d(128, 1, 1) # 1x1 conv to produce 1-channel map\n",
        "\n",
        "    def forward(self, x):\n",
        "        x = self.backbone(x)\n",
        "        x = self.head(x)\n",
        "        # Use ReLU to ensure density is non-negative\n",
        "        return torch.relu(x)\n",
        "\n",
        "# Initialize model\n",
        "model = DensityFCN().to(device)\n",
        "print(f\"Model parameters: {sum(p.numel() for p in model.parameters()):,}\")\n",
        "print(\"Model architecture:\")\n",
        "print(model)"
      ]
    },
    {
      "cell_type": "markdown",
      "id": "ac6fb4d2",
      "metadata": {
        "id": "ac6fb4d2"
      },
      "source": [
        "## 4. Load Data and Set Up Training"
      ]
    },
    {
      "cell_type": "code",
      "execution_count": 34,
      "id": "3872db3a",
      "metadata": {
        "colab": {
          "base_uri": "https://localhost:8080/"
        },
        "id": "3872db3a",
        "outputId": "0830414a-f3b1-4a76-a4bf-e8083fc0f1b0"
      },
      "outputs": [
        {
          "name": "stdout",
          "output_type": "stream",
          "text": [
            "Using 50 images for training.\n"
          ]
        }
      ],
      "source": [
        "# Define paths (in Colab environment)\n",
        "BASE_DRIVE_DIR = '/content/drive/MyDrive/PROJECTS/Cognivio/Percobaan Hology 8 2025'\n",
        "TRAIN_IMG_DIR = os.path.join(BASE_DRIVE_DIR, 'dataset', 'train', 'images')\n",
        "TRAIN_LBL_DIR = os.path.join(BASE_DRIVE_DIR, 'dataset', 'train', 'labels')\n",
        "TEST_IMG_DIR = os.path.join(BASE_DRIVE_DIR, 'dataset', 'test', 'images')\n",
        "\n",
        "# Create dataset and dataloader\n",
        "train_dataset = CrowdCountingDataset(\n",
        "    image_dir=TRAIN_IMG_DIR,\n",
        "    label_dir=TRAIN_LBL_DIR,\n",
        "    max_samples=50,\n",
        "    img_size=224,\n",
        "    downscale_factor=16\n",
        ")\n",
        "\n",
        "train_loader = DataLoader(train_dataset, batch_size=4, shuffle=True)\n",
        "\n",
        "# Loss and Optimizer\n",
        "criterion = nn.MSELoss() # Pixel-wise MSE for density map regression\n",
        "optimizer = optim.Adam(model.parameters(), lr=0.0001)"
      ]
    },
    {
      "cell_type": "markdown",
      "id": "03251ec8",
      "metadata": {
        "id": "03251ec8"
      },
      "source": [
        "## 5. Training Loop"
      ]
    },
    {
      "cell_type": "code",
      "execution_count": 35,
      "id": "7693f44a",
      "metadata": {
        "colab": {
          "base_uri": "https://localhost:8080/",
          "height": 626
        },
        "id": "7693f44a",
        "outputId": "ec1e4937-4801-4363-9dd4-53b5dd3be6d4"
      },
      "outputs": [
        {
          "name": "stdout",
          "output_type": "stream",
          "text": [
            "Starting training...\n",
            "Epoch 1/100, Loss: 13.797008\n",
            "Epoch 20/100, Loss: 13.386533\n",
            "Epoch 40/100, Loss: 11.009139\n",
            "Epoch 60/100, Loss: 9.949986\n",
            "Epoch 80/100, Loss: 10.400961\n",
            "Epoch 100/100, Loss: 9.624120\n",
            "Training completed!\n"
          ]
        },
        {
          "data": {
            "image/png": "[encoded data removed]",
            "text/plain": [
              "<Figure size 1000x500 with 1 Axes>"
            ]
          },
          "metadata": {},
          "output_type": "display_data"
        }
      ],
      "source": [
        "num_epochs = 100 # Increased epochs for better convergence on small dataset\n",
        "training_losses = []\n",
        "\n",
        "print(\"Starting training...\")\n",
        "model.train()\n",
        "for epoch in range(num_epochs):\n",
        "    epoch_loss = 0.0\n",
        "    for images, density_maps in train_loader:\n",
        "        images = images.to(device)\n",
        "        density_maps = density_maps.to(device)\n",
        "\n",
        "        # Forward pass\n",
        "        optimizer.zero_grad()\n",
        "        pred_density_maps = model(images)\n",
        "\n",
        "        # Calculate loss\n",
        "        loss = criterion(pred_density_maps, density_maps)\n",
        "\n",
        "        # Backward pass\n",
        "        loss.backward()\n",
        "        optimizer.step()\n",
        "\n",
        "        epoch_loss += loss.item()\n",
        "\n",
        "    avg_loss = epoch_loss / len(train_loader)\n",
        "    training_losses.append(avg_loss)\n",
        "\n",
        "    if (epoch + 1) % 20 == 0 or epoch == 0:\n",
        "        print(f'Epoch {epoch+1}/{num_epochs}, Loss: {avg_loss:.6f}')\n",
        "\n",
        "print(\"Training completed!\")\n",
        "\n",
        "# Plot training loss\n",
        "plt.figure(figsize=(10, 5))\n",
        "plt.plot(training_losses)\n",
        "plt.title('Training Loss Over Time')\n",
        "plt.xlabel('Epoch')\n",
        "plt.ylabel('MSE Loss')\n",
        "plt.grid(True)\n",
        "plt.show()"
      ]
    },
    {
      "cell_type": "markdown",
      "id": "6dc5052c",
      "metadata": {
        "id": "6dc5052c"
      },
      "source": [
        "## 6. Evaluation on Test Set\n",
        "We now evaluate the trained model on the test images. We define a function to predict the count for a single image and then calculate the Mean Absolute Error (MAE) across a sample of the test set."
      ]
    },
    {
      "cell_type": "code",
      "execution_count": 36,
      "id": "3a0c9595",
      "metadata": {
        "id": "3a0c9595"
      },
      "outputs": [],
      "source": [
        "def predict_count(model, image_path, device, img_size=224):\n",
        "    model.eval()\n",
        "\n",
        "    # Load and preprocess image\n",
        "    image = cv2.imread(image_path)\n",
        "    image = cv2.cvtColor(image, cv2.COLOR_BGR2RGB)\n",
        "    resized_image = cv2.resize(image, (img_size, img_size))\n",
        "    input_tensor = torch.from_numpy(resized_image).permute(2, 0, 1).float().unsqueeze(0) / 255.0\n",
        "    input_tensor = input_tensor.to(device)\n",
        "\n",
        "    with torch.no_grad():\n",
        "        pred_density_map = model(input_tensor)\n",
        "\n",
        "    # The predicted count is the sum of the density map\n",
        "    predicted_count = pred_density_map.sum().item()\n",
        "\n",
        "    return image, predicted_count, pred_density_map.squeeze().cpu().numpy()\n",
        "\n",
        "def get_ground_truth_count(image_name, label_dir):\n",
        "    label_file = image_name.replace('.jpg', '.json')\n",
        "    label_path = os.path.join(label_dir, label_file)\n",
        "    if not os.path.exists(label_path):\n",
        "        # For test set, we might not have labels. We'll use train labels for MAE calculation.\n",
        "        return 0\n",
        "    with open(label_path, 'r') as f:\n",
        "        data = json.load(f)\n",
        "    return data['human_num']"
      ]
    },
    {
      "cell_type": "code",
      "execution_count": null,
      "id": "0fce885d",
      "metadata": {
        "colab": {
          "base_uri": "https://localhost:8080/",
          "height": 1000
        },
        "id": "0fce885d",
        "outputId": "7fbf9bbe-1cc6-4389-ca08-8066edade2f2"
      },
      "outputs": [],
      "source": [
        "print(\"Evaluating model on training images (to check learning)...\")\n",
        "print(\"=\" * 50)\n",
        "\n",
        "evaluation_results = []\n",
        "sample_images_for_eval = train_dataset.image_files[:10] # Use first 10 training images for eval\n",
        "\n",
        "for img_name in sample_images_for_eval:\n",
        "    img_path = os.path.join(TRAIN_IMG_DIR, img_name)\n",
        "\n",
        "    # Get ground truth\n",
        "    true_count = get_ground_truth_count(img_name, TRAIN_LBL_DIR)\n",
        "\n",
        "    # Get prediction\n",
        "    original_image, pred_count, pred_map = predict_count(model, img_path, device)\n",
        "\n",
        "    evaluation_results.append({\n",
        "        'image_name': img_name,\n",
        "        'true_count': true_count,\n",
        "        'pred_count': pred_count\n",
        "    })\n",
        "\n",
        "    # Visualize first 3 images\n",
        "    if len(evaluation_results) <= 3:\n",
        "        fig, (ax1, ax2) = plt.subplots(1, 2, figsize=(12, 6))\n",
        "        ax1.imshow(original_image)\n",
        "        ax1.set_title(f'Original Image: {img_name}')\n",
        "        ax1.axis('off')\n",
        "\n",
        "        im = ax2.imshow(pred_map, cmap='jet')\n",
        "        ax2.set_title(f'Predicted Density Map (Count: {pred_count:.2f})\\nGround Truth: {true_count}')\n",
        "        ax2.axis('off')\n",
        "        fig.colorbar(im, ax=ax2)\n",
        "        plt.show()\n",
        "\n",
        "# Calculate and display MAE\n",
        "eval_df = pd.DataFrame(evaluation_results)\n",
        "mae = (eval_df['pred_count'] - eval_df['true_count']).abs().mean()\n",
        "\n",
        "print(\"\\nEvaluation Results on Training Sample:\")\n",
        "print(eval_df)\n",
        "print(f\"\\nMean Absolute Error (MAE): {mae:.4f}\")"
      ]
    },
    {
      "cell_type": "markdown",
      "id": "c280cb1a",
      "metadata": {
        "id": "c280cb1a"
      },
      "source": [
        "## 7. Final Submission Generation\n",
        "Finally, we run predictions on the actual test set and generate a `submission.csv` file in the required format."
      ]
    },
    {
      "cell_type": "code",
      "execution_count": 38,
      "id": "bd9ba3d1",
      "metadata": {
        "colab": {
          "base_uri": "https://localhost:8080/"
        },
        "id": "bd9ba3d1",
        "outputId": "7d025f59-2c72-4aa1-aa2b-1f60ad6c1877"
      },
      "outputs": [
        {
          "name": "stdout",
          "output_type": "stream",
          "text": [
            "Generating submission file for the test set...\n",
            "Submission file 'submission.csv' created successfully.\n",
            "\n",
            "First 5 rows of submission:\n",
            "        id  human_num\n",
            "0    1.jpg          3\n",
            "1   10.jpg         63\n",
            "2  100.jpg         59\n",
            "3  101.jpg          8\n",
            "4  102.jpg        516\n"
          ]
        }
      ],
      "source": [
        "print(\"Generating submission file for the test set...\")\n",
        "\n",
        "test_images = sorted([f for f in os.listdir(TEST_IMG_DIR) if f.endswith('.jpg')])\n",
        "submission_data = []\n",
        "\n",
        "for img_name in test_images:\n",
        "    img_path = os.path.join(TEST_IMG_DIR, img_name)\n",
        "    _, pred_count, _ = predict_count(model, img_path, device)\n",
        "\n",
        "    submission_data.append({\n",
        "        'id': img_name,\n",
        "        'human_num': int(round(pred_count))\n",
        "    })\n",
        "\n",
        "submission_df = pd.DataFrame(submission_data)\n",
        "submission_df.to_csv('submission.csv', index=False)\n",
        "\n",
        "print(\"Submission file 'submission.csv' created successfully.\")\n",
        "print(\"\\nFirst 5 rows of submission:\")\n",
        "print(submission_df.head())"
      ]
    }
  ],
  "metadata": {
    "accelerator": "GPU",
    "colab": {
      "gpuType": "T4",
      "include_colab_link": true,
      "provenance": []
    },
    "kernelspec": {
      "display_name": "Python 3",
      "name": "python3"
    },
    "language_info": {
      "name": "python"
    }
  },
  "nbformat": 4,
  "nbformat_minor": 5
}
