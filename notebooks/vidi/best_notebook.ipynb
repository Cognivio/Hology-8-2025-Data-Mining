{
  "cells": [
    {
      "cell_type": "markdown",
      "metadata": {
        "id": "view-in-github",
        "colab_type": "text"
      },
      "source": [
        "<a href=\"https://colab.research.google.com/github/FarrelAD/Hology-8-2025-Data-Mining-PRIVATE/blob/main/notebooks/vidi/best_notebook.ipynb\" target=\"_parent\"><img src=\"https://colab.research.google.com/assets/colab-badge.svg\" alt=\"Open In Colab\"/></a>"
      ]
    },
    {
      "cell_type": "markdown",
      "id": "390f2cfc",
      "metadata": {
        "id": "390f2cfc"
      },
      "source": [
        "# Spatial Fully Convolutional Network for Crowd Counting\n",
        "\n",
        "This notebook implements SFCN with VGG16-BN backbone for crowd counting tasks.\n",
        "\n",
        "**Features:**\n",
        "- VGG16-BN backbone with spatial encoder\n",
        "- Adaptive density map generation with KNN-based sigma\n",
        "- Advanced data augmentation with patch-based training\n",
        "- Mixed precision training with gradient accumulation\n",
        "- Early stopping and model checkpointing\n",
        "- Optional empty patch avoidance for better training"
      ]
    },
    {
      "cell_type": "markdown",
      "id": "70a323fb",
      "metadata": {
        "id": "70a323fb"
      },
      "source": [
        "# Import Libraries"
      ]
    },
    {
      "cell_type": "code",
      "execution_count": 1,
      "id": "cfdbe9ee",
      "metadata": {
        "id": "cfdbe9ee",
        "outputId": "35db3420-8508-4016-c313-21a526f340e8",
        "colab": {
          "base_uri": "https://localhost:8080/"
        }
      },
      "outputs": [
        {
          "output_type": "stream",
          "name": "stdout",
          "text": [
            "✅ All libraries imported successfully!\n",
            "🔍 Detected environment: COLAB\n",
            "PyTorch version: 2.8.0+cu126\n",
            "CUDA available: True\n",
            "CUDA device: Tesla T4\n",
            "CUDA memory: 15.8 GB\n"
          ]
        }
      ],
      "source": [
        "# Import Required Libraries and Setup\n",
        "import os\n",
        "import re\n",
        "import json\n",
        "import math\n",
        "import random\n",
        "import argparse\n",
        "import warnings\n",
        "from glob import glob\n",
        "from typing import List, Tuple\n",
        "import sys\n",
        "import platform\n",
        "\n",
        "import numpy as np\n",
        "import pandas as pd\n",
        "import cv2\n",
        "import matplotlib.pyplot as plt\n",
        "from scipy.spatial import KDTree\n",
        "\n",
        "import torch\n",
        "from torch import Tensor\n",
        "import torch.nn as nn\n",
        "import torch.nn.functional as F\n",
        "from torchvision import models, transforms\n",
        "from torch.utils.data import Dataset, DataLoader\n",
        "from tqdm import tqdm\n",
        "\n",
        "# Suppress warnings\n",
        "warnings.filterwarnings(\"ignore\")\n",
        "\n",
        "# Constants\n",
        "IMAGENET_MEAN = [0.485, 0.456, 0.406]\n",
        "IMAGENET_STD = [0.229, 0.224, 0.225]\n",
        "\n",
        "print(\"✅ All libraries imported successfully!\")\n",
        "\n",
        "\n",
        "# Detect environment\n",
        "def detect_environment():\n",
        "    \"\"\"Detect if running in Colab, Kaggle, or local environment\"\"\"\n",
        "    if 'google.colab' in sys.modules:\n",
        "        return 'colab'\n",
        "    elif 'kaggle_secrets' in sys.modules or os.environ.get('KAGGLE_KERNEL_RUN_TYPE'):\n",
        "        return 'kaggle'\n",
        "    else:\n",
        "        return 'local'\n",
        "\n",
        "ENV = detect_environment()\n",
        "print(f\"🔍 Detected environment: {ENV.upper()}\")\n",
        "\n",
        "\n",
        "print(f\"PyTorch version: {torch.__version__}\")\n",
        "print(f\"CUDA available: {torch.cuda.is_available()}\")\n",
        "if torch.cuda.is_available():\n",
        "    print(f\"CUDA device: {torch.cuda.get_device_name(0)}\")\n",
        "    print(f\"CUDA memory: {torch.cuda.get_device_properties(0).total_memory / 1e9:.1f} GB\")"
      ]
    },
    {
      "cell_type": "markdown",
      "id": "312c3af0",
      "metadata": {
        "id": "312c3af0"
      },
      "source": [
        "# Dataset Download and Setup"
      ]
    },
    {
      "cell_type": "code",
      "execution_count": 2,
      "id": "0dc608aa",
      "metadata": {
        "id": "0dc608aa",
        "outputId": "2cca7823-3306-4828-c940-6480aa4073b9",
        "colab": {
          "base_uri": "https://localhost:8080/",
          "height": 299
        }
      },
      "outputs": [
        {
          "output_type": "stream",
          "name": "stdout",
          "text": [
            "📥 Setting up dataset in Colab...\n",
            "⚠️  Please upload kaggle.json to your Google Drive root folder\n",
            "   Or manually upload it when prompted below\n"
          ]
        },
        {
          "output_type": "display_data",
          "data": {
            "text/plain": [
              "<IPython.core.display.HTML object>"
            ],
            "text/html": [
              "\n",
              "     <input type=\"file\" id=\"files-f0c5c6a6-e70e-4b57-8d51-ddb02f2047a0\" name=\"files[]\" multiple disabled\n",
              "        style=\"border:none\" />\n",
              "     <output id=\"result-f0c5c6a6-e70e-4b57-8d51-ddb02f2047a0\">\n",
              "      Upload widget is only available when the cell has been executed in the\n",
              "      current browser session. Please rerun this cell to enable.\n",
              "      </output>\n",
              "      <script>// Copyright 2017 Google LLC\n",
              "//\n",
              "// Licensed under the Apache License, Version 2.0 (the \"License\");\n",
              "// you may not use this file except in compliance with the License.\n",
              "// You may obtain a copy of the License at\n",
              "//\n",
              "//      http://www.apache.org/licenses/LICENSE-2.0\n",
              "//\n",
              "// Unless required by applicable law or agreed to in writing, software\n",
              "// distributed under the License is distributed on an \"AS IS\" BASIS,\n",
              "// WITHOUT WARRANTIES OR CONDITIONS OF ANY KIND, either express or implied.\n",
              "// See the License for the specific language governing permissions and\n",
              "// limitations under the License.\n",
              "\n",
              "/**\n",
              " * @fileoverview Helpers for google.colab Python module.\n",
              " */\n",
              "(function(scope) {\n",
              "function span(text, styleAttributes = {}) {\n",
              "  const element = document.createElement('span');\n",
              "  element.textContent = text;\n",
              "  for (const key of Object.keys(styleAttributes)) {\n",
              "    element.style[key] = styleAttributes[key];\n",
              "  }\n",
              "  return element;\n",
              "}\n",
              "\n",
              "// Max number of bytes which will be uploaded at a time.\n",
              "const MAX_PAYLOAD_SIZE = 100 * 1024;\n",
              "\n",
              "function _uploadFiles(inputId, outputId) {\n",
              "  const steps = uploadFilesStep(inputId, outputId);\n",
              "  const outputElement = document.getElementById(outputId);\n",
              "  // Cache steps on the outputElement to make it available for the next call\n",
              "  // to uploadFilesContinue from Python.\n",
              "  outputElement.steps = steps;\n",
              "\n",
              "  return _uploadFilesContinue(outputId);\n",
              "}\n",
              "\n",
              "// This is roughly an async generator (not supported in the browser yet),\n",
              "// where there are multiple asynchronous steps and the Python side is going\n",
              "// to poll for completion of each step.\n",
              "// This uses a Promise to block the python side on completion of each step,\n",
              "// then passes the result of the previous step as the input to the next step.\n",
              "function _uploadFilesContinue(outputId) {\n",
              "  const outputElement = document.getElementById(outputId);\n",
              "  const steps = outputElement.steps;\n",
              "\n",
              "  const next = steps.next(outputElement.lastPromiseValue);\n",
              "  return Promise.resolve(next.value.promise).then((value) => {\n",
              "    // Cache the last promise value to make it available to the next\n",
              "    // step of the generator.\n",
              "    outputElement.lastPromiseValue = value;\n",
              "    return next.value.response;\n",
              "  });\n",
              "}\n",
              "\n",
              "/**\n",
              " * Generator function which is called between each async step of the upload\n",
              " * process.\n",
              " * @param {string} inputId Element ID of the input file picker element.\n",
              " * @param {string} outputId Element ID of the output display.\n",
              " * @return {!Iterable<!Object>} Iterable of next steps.\n",
              " */\n",
              "function* uploadFilesStep(inputId, outputId) {\n",
              "  const inputElement = document.getElementById(inputId);\n",
              "  inputElement.disabled = false;\n",
              "\n",
              "  const outputElement = document.getElementById(outputId);\n",
              "  outputElement.innerHTML = '';\n",
              "\n",
              "  const pickedPromise = new Promise((resolve) => {\n",
              "    inputElement.addEventListener('change', (e) => {\n",
              "      resolve(e.target.files);\n",
              "    });\n",
              "  });\n",
              "\n",
              "  const cancel = document.createElement('button');\n",
              "  inputElement.parentElement.appendChild(cancel);\n",
              "  cancel.textContent = 'Cancel upload';\n",
              "  const cancelPromise = new Promise((resolve) => {\n",
              "    cancel.onclick = () => {\n",
              "      resolve(null);\n",
              "    };\n",
              "  });\n",
              "\n",
              "  // Wait for the user to pick the files.\n",
              "  const files = yield {\n",
              "    promise: Promise.race([pickedPromise, cancelPromise]),\n",
              "    response: {\n",
              "      action: 'starting',\n",
              "    }\n",
              "  };\n",
              "\n",
              "  cancel.remove();\n",
              "\n",
              "  // Disable the input element since further picks are not allowed.\n",
              "  inputElement.disabled = true;\n",
              "\n",
              "  if (!files) {\n",
              "    return {\n",
              "      response: {\n",
              "        action: 'complete',\n",
              "      }\n",
              "    };\n",
              "  }\n",
              "\n",
              "  for (const file of files) {\n",
              "    const li = document.createElement('li');\n",
              "    li.append(span(file.name, {fontWeight: 'bold'}));\n",
              "    li.append(span(\n",
              "        `(${file.type || 'n/a'}) - ${file.size} bytes, ` +\n",
              "        `last modified: ${\n",
              "            file.lastModifiedDate ? file.lastModifiedDate.toLocaleDateString() :\n",
              "                                    'n/a'} - `));\n",
              "    const percent = span('0% done');\n",
              "    li.appendChild(percent);\n",
              "\n",
              "    outputElement.appendChild(li);\n",
              "\n",
              "    const fileDataPromise = new Promise((resolve) => {\n",
              "      const reader = new FileReader();\n",
              "      reader.onload = (e) => {\n",
              "        resolve(e.target.result);\n",
              "      };\n",
              "      reader.readAsArrayBuffer(file);\n",
              "    });\n",
              "    // Wait for the data to be ready.\n",
              "    let fileData = yield {\n",
              "      promise: fileDataPromise,\n",
              "      response: {\n",
              "        action: 'continue',\n",
              "      }\n",
              "    };\n",
              "\n",
              "    // Use a chunked sending to avoid message size limits. See b/62115660.\n",
              "    let position = 0;\n",
              "    do {\n",
              "      const length = Math.min(fileData.byteLength - position, MAX_PAYLOAD_SIZE);\n",
              "      const chunk = new Uint8Array(fileData, position, length);\n",
              "      position += length;\n",
              "\n",
              "      const base64 = btoa(String.fromCharCode.apply(null, chunk));\n",
              "      yield {\n",
              "        response: {\n",
              "          action: 'append',\n",
              "          file: file.name,\n",
              "          data: base64,\n",
              "        },\n",
              "      };\n",
              "\n",
              "      let percentDone = fileData.byteLength === 0 ?\n",
              "          100 :\n",
              "          Math.round((position / fileData.byteLength) * 100);\n",
              "      percent.textContent = `${percentDone}% done`;\n",
              "\n",
              "    } while (position < fileData.byteLength);\n",
              "  }\n",
              "\n",
              "  // All done.\n",
              "  yield {\n",
              "    response: {\n",
              "      action: 'complete',\n",
              "    }\n",
              "  };\n",
              "}\n",
              "\n",
              "scope.google = scope.google || {};\n",
              "scope.google.colab = scope.google.colab || {};\n",
              "scope.google.colab._files = {\n",
              "  _uploadFiles,\n",
              "  _uploadFilesContinue,\n",
              "};\n",
              "})(self);\n",
              "</script> "
            ]
          },
          "metadata": {}
        },
        {
          "output_type": "stream",
          "name": "stdout",
          "text": [
            "Saving kaggle.json to kaggle.json\n",
            "✅ Kaggle credentials uploaded: kaggle.json\n",
            "Downloading penyisihan-hology-8-0-2025-data-mining.zip to /content\n",
            " 70% 147M/209M [00:00<00:00, 1.53GB/s]\n",
            "100% 209M/209M [00:00<00:00, 998MB/s] \n",
            "✅ Dataset extracted to /content/dataset\n",
            "📁 Dataset paths configured for colab:\n",
            "   img_dir: /content/dataset/train/images ✅\n",
            "   label_dir: /content/dataset/train/labels ✅\n",
            "   test_dir: /content/dataset/test/images ✅\n",
            "   save_dir: /content/drive/MyDrive/PROJECTS/Cognivio/models ⚠️\n"
          ]
        }
      ],
      "source": [
        "# Environment-specific dataset setup\n",
        "def setup_dataset_paths(env: str) -> dict[str, str]:\n",
        "    \"\"\"Setup dataset paths based on environment\"\"\"\n",
        "\n",
        "    if env == 'colab':\n",
        "        # Google Colab paths\n",
        "        dataset_name = \"penyisihan-hology-8-0-2025-data-mining\"\n",
        "        drive_path = \"/content/drive/MyDrive/PROJECTS/Cognivio/dataset\"\n",
        "        local_path = \"/content/dataset\"\n",
        "\n",
        "        # Download and setup dataset in Colab\n",
        "        if not os.path.exists(local_path):\n",
        "            print(\"📥 Setting up dataset in Colab...\")\n",
        "\n",
        "            # Check for kaggle.json in Drive first\n",
        "            kaggle_json_drive = \"/content/drive/MyDrive/kaggle.json\"\n",
        "            kaggle_json_local = \"/root/.kaggle/kaggle.json\"\n",
        "\n",
        "            if os.path.exists(kaggle_json_drive):\n",
        "                print('copy from drive')\n",
        "                # Copy from Drive\n",
        "                !mkdir -p /root/.kaggle\n",
        "                !cp \"{kaggle_json_drive}\" \"{kaggle_json_local}\"\n",
        "                !chmod 600 \"{kaggle_json_local}\"\n",
        "                print(\"✅ Kaggle credentials loaded from Drive\")\n",
        "            else:\n",
        "                print(\"⚠️  Please upload kaggle.json to your Google Drive root folder\")\n",
        "                print(\"   Or manually upload it when prompted below\")\n",
        "                from google.colab import files\n",
        "                uploaded = files.upload()\n",
        "                for fn in uploaded.keys():\n",
        "                    !mkdir -p /root/.kaggle\n",
        "                    !mv \"{fn}\" \"/root/.kaggle/kaggle.json\"\n",
        "                    !chmod 600 \"/root/.kaggle/kaggle.json\"\n",
        "                    print(f\"✅ Kaggle credentials uploaded: {fn}\")\n",
        "\n",
        "            # Download dataset\n",
        "            !kaggle competitions download -c {dataset_name} -p /content\n",
        "\n",
        "            # Extract dataset\n",
        "            import zipfile\n",
        "            zip_path = f\"/content/{dataset_name}.zip\"\n",
        "            if os.path.exists(zip_path):\n",
        "                with zipfile.ZipFile(zip_path, 'r') as zip_ref:\n",
        "                    zip_ref.extractall(local_path)\n",
        "                print(f\"✅ Dataset extracted to {local_path}\")\n",
        "            else:\n",
        "                raise FileNotFoundError(f\"Dataset zip not found: {zip_path}\")\n",
        "\n",
        "        return {\n",
        "            'img_dir': f\"{local_path}/train/images\",\n",
        "            'label_dir': f\"{local_path}/train/labels\",\n",
        "            'test_dir': f\"{local_path}/test/images\",\n",
        "            'save_dir': \"/content/drive/MyDrive/PROJECTS/Cognivio/models\"\n",
        "        }\n",
        "\n",
        "    elif env == 'kaggle':\n",
        "        # Kaggle paths\n",
        "        return {\n",
        "            'img_dir': \"/kaggle/input/penyisihan-hology-8-0-2025-data-mining/train/images\",\n",
        "            'label_dir': \"/kaggle/input/penyisihan-hology-8-0-2025-data-mining/train/labels\",\n",
        "            'test_dir': \"/kaggle/input/penyisihan-hology-8-0-2025-data-mining/test/images\",\n",
        "            'save_dir': \"/kaggle/working\"\n",
        "        }\n",
        "\n",
        "    else:  # local\n",
        "        # Local paths - modify these for your setup\n",
        "        base_path = \"data\"  # Change this to your local dataset path\n",
        "        return {\n",
        "            'img_dir': f\"{base_path}/train/images\",\n",
        "            'label_dir': f\"{base_path}/train/labels\",\n",
        "            'test_dir': f\"{base_path}/test/images\",\n",
        "            'save_dir': \"models\"\n",
        "        }\n",
        "\n",
        "# Setup paths\n",
        "paths = setup_dataset_paths(ENV)\n",
        "print(f\"📁 Dataset paths configured for {ENV}:\")\n",
        "for key, path in paths.items():\n",
        "    exists = \"✅\" if os.path.exists(path) else \"⚠️\"\n",
        "    print(f\"   {key}: {path} {exists}\")\n",
        "\n",
        "# Create save directory\n",
        "os.makedirs(paths['save_dir'], exist_ok=True)"
      ]
    },
    {
      "cell_type": "markdown",
      "id": "2fc7e279",
      "metadata": {
        "id": "2fc7e279"
      },
      "source": [
        "# Training Configuration"
      ]
    },
    {
      "cell_type": "code",
      "execution_count": 3,
      "id": "c876700e",
      "metadata": {
        "id": "c876700e",
        "outputId": "7772115e-f621-4311-9b72-cc4064e3e7b0",
        "colab": {
          "base_uri": "https://localhost:8080/"
        }
      },
      "outputs": [
        {
          "output_type": "stream",
          "name": "stdout",
          "text": [
            "📋 Configuration loaded:\n",
            "  img_dir: /content/dataset/train/images\n",
            "  label_dir: /content/dataset/train/labels\n",
            "  test_dir: /content/dataset/test/images\n",
            "  save_dir: /content/drive/MyDrive/PROJECTS/Cognivio/models\n",
            "  base_size: 1024\n",
            "  down: 8\n",
            "  patch_size: 384\n",
            "  patches_per_image: 4\n",
            "  avoid_empty_patches: True\n",
            "  batch_size: 12\n",
            "  epochs: 120\n",
            "  lr: 0.0002\n",
            "  criterion: mse\n",
            "  count_loss_alpha: 0.0\n",
            "  early_stop_patience: 15\n",
            "  num_workers: 4\n",
            "  amp: True\n",
            "  accum_steps: 2\n",
            "  sigma_mode: adaptive\n",
            "  save_path: /content/drive/MyDrive/PROJECTS/Cognivio/models/sfcn_best.pth\n",
            "  seed: 1337\n",
            "🎲 Random seed set to 1337\n",
            "🔧 Using device: cuda\n"
          ]
        }
      ],
      "source": [
        "# Training Configuration\n",
        "config = {\n",
        "    # Data paths (modify these for local setup)\n",
        "    'img_dir': paths['img_dir'],\n",
        "    'label_dir': paths['label_dir'],\n",
        "    'test_dir': paths['test_dir'],\n",
        "    'save_dir': paths['save_dir'],\n",
        "\n",
        "    # Model parameters\n",
        "    'base_size': 1024,\n",
        "    'down': 8,\n",
        "    'patch_size': 384,\n",
        "    'patches_per_image': 4,\n",
        "    'avoid_empty_patches': True,\n",
        "\n",
        "    # Training parameters\n",
        "    'batch_size': 12, # (default=12, testing=4) change to higher in high computational environment\n",
        "    'epochs': 120,  # (default=120, testing=2) Increase for full training\n",
        "    'lr': 2e-4, # or 1e-4\n",
        "    'criterion': 'mse',  # 'mse' or 'huber'\n",
        "    'count_loss_alpha': 0.0,  # Auxiliary count loss weight\n",
        "    'early_stop_patience': 15,\n",
        "\n",
        "    # Optimization\n",
        "    'num_workers': 4, # change to higher in high computational environment\n",
        "    'amp': True,  # Automatic Mixed Precision\n",
        "    'accum_steps': 2,  # Gradient accumulation steps\n",
        "\n",
        "    # Augmentation and preprocessing\n",
        "    'sigma_mode': 'adaptive',  # 'adaptive' or 'constant'\n",
        "\n",
        "    # Model saving\n",
        "    'save_path': os.path.join(paths['save_dir'], 'sfcn_best.pth'),\n",
        "    'seed': 1337\n",
        "}\n",
        "\n",
        "print(\"📋 Configuration loaded:\")\n",
        "for key, value in config.items():\n",
        "    print(f\"  {key}: {value}\")\n",
        "\n",
        "# Set random seed for reproducibility\n",
        "def set_seed(seed: int = 1337) -> None:\n",
        "    random.seed(seed)\n",
        "    np.random.seed(seed)\n",
        "    torch.manual_seed(seed)\n",
        "    torch.cuda.manual_seed_all(seed)\n",
        "\n",
        "set_seed(config['seed'])\n",
        "print(f\"🎲 Random seed set to {config['seed']}\")\n",
        "\n",
        "# Set device\n",
        "device = torch.device(\"cuda\" if torch.cuda.is_available() else \"cpu\")\n",
        "print(f\"🔧 Using device: {device}\")"
      ]
    },
    {
      "cell_type": "markdown",
      "id": "2449169e",
      "metadata": {
        "id": "2449169e"
      },
      "source": [
        "# Utility Functions"
      ]
    },
    {
      "cell_type": "code",
      "execution_count": 4,
      "id": "8082edd2",
      "metadata": {
        "id": "8082edd2",
        "outputId": "fff1f142-76a5-4d03-822c-cfe6ce80d19c",
        "colab": {
          "base_uri": "https://localhost:8080/"
        }
      },
      "outputs": [
        {
          "output_type": "stream",
          "name": "stdout",
          "text": [
            "✅ Basic utility functions defined!\n"
          ]
        }
      ],
      "source": [
        "def set_seed(\n",
        "    seed: int = 1337\n",
        ") -> None:\n",
        "    \"\"\"Set random seeds for reproducibility.\"\"\"\n",
        "    random.seed(seed)\n",
        "    np.random.seed(seed)\n",
        "    torch.manual_seed(seed)\n",
        "    torch.cuda.manual_seed_all(seed)\n",
        "\n",
        "def imread_rgb(\n",
        "    path: str\n",
        ") -> np.ndarray:\n",
        "    \"\"\"Read an RGB image using OpenCV and convert BGR→RGB.\"\"\"\n",
        "    img = cv2.imread(path, cv2.IMREAD_COLOR)\n",
        "    if img is None:\n",
        "        raise ValueError(f\"Cannot read image: {path}\")\n",
        "    return cv2.cvtColor(img, cv2.COLOR_BGR2RGB)\n",
        "\n",
        "def letterbox(\n",
        "    img: np.ndarray,\n",
        "    target: int = 512\n",
        ") -> Tuple[np.ndarray, float, int, int]:\n",
        "    \"\"\"Resize and pad an image to a square canvas without distortion.\n",
        "\n",
        "    Returns the padded image, the scale factor used, and the left/top\n",
        "    padding applied. The output size is (target, target).\n",
        "    \"\"\"\n",
        "    h, w = img.shape[:2]\n",
        "    scale = min(target / h, target / w)\n",
        "    nh, nw = int(round(h * scale)), int(round(w * scale))\n",
        "    img_rs = cv2.resize(img, (nw, nh), interpolation=cv2.INTER_LINEAR)\n",
        "    top = (target - nh) // 2\n",
        "    left = (target - nw) // 2\n",
        "    canvas = np.zeros((target, target, 3), dtype=img_rs.dtype)\n",
        "    canvas[top:top + nh, left:left + nw] = img_rs\n",
        "    return canvas, scale, left, top\n",
        "\n",
        "def parse_points_from_json(\n",
        "    path: str\n",
        ") -> Tuple[np.ndarray, int]:\n",
        "    \"\"\"Parse annotated points from a JSON file.\n",
        "\n",
        "    Supports several common crowd counting annotation formats. Returns an\n",
        "    array of shape (N, 2) containing [x, y] coordinates and, if present\n",
        "    in the JSON, the declared number of people.\n",
        "    \"\"\"\n",
        "    with open(path, \"r\", encoding=\"utf-8\") as f:\n",
        "        obj = json.load(f)\n",
        "    pts: List[List[float]]\n",
        "    num = None\n",
        "    if isinstance(obj, dict) and \"points\" in obj:\n",
        "        pts = obj[\"points\"]\n",
        "        num = obj.get(\"human_num\", obj.get(\"num_human\", None))\n",
        "        if len(pts) > 0 and isinstance(pts[0], dict):\n",
        "            pts = [[p[\"x\"], p[\"y\"]] for p in pts if \"x\" in p and \"y\" in p]\n",
        "    elif isinstance(obj, dict) and \"annotations\" in obj:\n",
        "        pts = [[a[\"x\"], a[\"y\"]] for a in obj[\"annotations\"] if \"x\" in a and \"y\" in a]\n",
        "        num = obj.get(\"human_num\", obj.get(\"num_human\", None))\n",
        "    elif isinstance(obj, list):\n",
        "        pts = obj\n",
        "    else:\n",
        "        raise ValueError(f\"Unknown JSON schema: {path}\")\n",
        "    pts_arr = np.array(pts, dtype=np.float32) if len(pts) > 0 else np.zeros((0, 2), np.float32)\n",
        "    return pts_arr, num\n",
        "\n",
        "def derive_json_path(\n",
        "    lbl_dir: str,\n",
        "    img_path: str\n",
        ") -> str:\n",
        "    \"\"\"Derive the corresponding JSON label path for a given image path.\"\"\"\n",
        "    name = os.path.splitext(os.path.basename(img_path))[0]\n",
        "    cand = os.path.join(lbl_dir, name + \".json\")\n",
        "    if os.path.exists(cand):\n",
        "        return cand\n",
        "    # Try matching trailing digits\n",
        "    m = re.findall(r\"\\d+\", name)\n",
        "    if m:\n",
        "        alt = os.path.join(lbl_dir, f\"{m[-1]}.json\")\n",
        "        if os.path.exists(alt):\n",
        "            return alt\n",
        "    # Fallback: any file starting with the same name\n",
        "    lst = glob(os.path.join(lbl_dir, f\"{name}*.json\"))\n",
        "    if lst:\n",
        "        return lst[0]\n",
        "    raise FileNotFoundError(f\"JSON label not found for {img_path}\")\n",
        "\n",
        "def make_density_map(\n",
        "    points_xy: np.ndarray,\n",
        "    grid_size: int,\n",
        "    down: int = 8,\n",
        "    sigma_mode: str = \"adaptive\",\n",
        "    knn: int = 3,\n",
        "    beta: float = 0.3,\n",
        "    const_sigma: float = 2.0,\n",
        ") -> np.ndarray:\n",
        "    \"\"\"Generate a density map on a grid given annotated points.\n",
        "\n",
        "    The density map is of shape (grid_size//down, grid_size//down). Each\n",
        "    point is represented by a Gaussian whose sigma is either constant or\n",
        "    computed from the k-nearest neighbours.\n",
        "    \"\"\"\n",
        "    target = grid_size\n",
        "    dh, dw = target // down, target // down\n",
        "    den = np.zeros((dh, dw), dtype=np.float32)\n",
        "\n",
        "    if len(points_xy) == 0:\n",
        "        return den\n",
        "\n",
        "    # Scale points to the density map resolution\n",
        "    pts = points_xy.copy()\n",
        "    pts[:, 0] = pts[:, 0] * (dw / target)\n",
        "    pts[:, 1] = pts[:, 1] * (dh / target)\n",
        "    tree = KDTree(pts) if len(pts) > 1 else None\n",
        "\n",
        "    for (x, y) in pts:\n",
        "        # Determine sigma\n",
        "        if sigma_mode == \"adaptive\" and tree is not None and len(pts) > 3:\n",
        "            dists, _ = tree.query([x, y], k=min(knn + 1, len(pts)))\n",
        "            sigma = max(1.0, float(np.mean(dists[1:])) * beta)\n",
        "        else:\n",
        "            sigma = const_sigma\n",
        "\n",
        "        cx, cy = float(x), float(y)\n",
        "        rad = int(max(1, math.ceil(3 * sigma)))\n",
        "        x0, x1 = max(0, int(math.floor(cx - rad))), min(dw, int(math.ceil(cx + rad + 1)))\n",
        "        y0, y1 = max(0, int(math.floor(cy - rad))), min(dh, int(math.ceil(cy + rad + 1)))\n",
        "\n",
        "        if x1 <= x0 or y1 <= y0:\n",
        "            continue\n",
        "\n",
        "        xs = np.arange(x0, x1) - cx\n",
        "        ys = np.arange(y0, y1) - cy\n",
        "        xx, yy = np.meshgrid(xs, ys)\n",
        "        g = np.exp(-(xx**2 + yy**2) / (2 * sigma * sigma))\n",
        "        s = g.sum()\n",
        "\n",
        "        if s > 0:\n",
        "            den[y0:y1, x0:x1] += (g / s).astype(np.float32)\n",
        "\n",
        "    return den\n",
        "\n",
        "print(\"✅ Basic utility functions defined!\")"
      ]
    },
    {
      "cell_type": "markdown",
      "id": "5ed13f38",
      "metadata": {
        "id": "5ed13f38"
      },
      "source": [
        "# Dataset Implementation"
      ]
    },
    {
      "cell_type": "code",
      "execution_count": 5,
      "id": "a4c87e4a",
      "metadata": {
        "id": "a4c87e4a",
        "outputId": "732b0313-ee47-4662-92e1-bf7a8bdb8800",
        "colab": {
          "base_uri": "https://localhost:8080/"
        }
      },
      "outputs": [
        {
          "output_type": "stream",
          "name": "stdout",
          "text": [
            "✅ CrowdDataset class implemented!\n"
          ]
        }
      ],
      "source": [
        "class CrowdDataset(Dataset):\n",
        "    \"\"\"Custom dataset for crowd counting.\n",
        "\n",
        "    Supports optional random patch cropping on training data. When\n",
        "    `avoid_empty_patches` is set, the dataset will attempt to choose a\n",
        "    patch containing at least one point, falling back to a random crop if\n",
        "    it fails after a number of retries.\n",
        "    \"\"\"\n",
        "\n",
        "    def __init__(\n",
        "        self,\n",
        "        img_dir: str,\n",
        "        lbl_dir: str,\n",
        "        base_size: int = 768,\n",
        "        down: int = 8,\n",
        "        aug: bool = True,\n",
        "        mode: str = \"train\",\n",
        "        patch_size: int = 0,\n",
        "        patches_per_image: int = 1,\n",
        "        sigma_mode: str = \"adaptive\",\n",
        "        avoid_empty_patches: bool = False,\n",
        "    ) -> None:\n",
        "        super().__init__()\n",
        "        self.img_paths = sorted(glob(os.path.join(img_dir, \"*.*\")))\n",
        "        if len(self.img_paths) == 0:\n",
        "            raise ValueError(f\"No images found in {img_dir}\")\n",
        "        self.lbl_dir = lbl_dir\n",
        "        self.base_size = base_size\n",
        "        self.down = down\n",
        "        self.aug = aug\n",
        "        self.mode = mode\n",
        "        self.patch_size = patch_size\n",
        "        self.patches_per_image = max(1, int(patches_per_image))\n",
        "        self.sigma_mode = sigma_mode\n",
        "        self.avoid_empty_patches = avoid_empty_patches\n",
        "\n",
        "        self.to_tensor = transforms.ToTensor()\n",
        "        self.normalize = transforms.Normalize(mean=IMAGENET_MEAN, std=IMAGENET_STD)\n",
        "        self.color_jit = transforms.ColorJitter(0.1, 0.1, 0.1, 0.05)\n",
        "\n",
        "        # Compute effective length for patch training\n",
        "        if self.mode == \"train\" and self.patch_size > 0 and self.patches_per_image > 1:\n",
        "            self.effective_len = len(self.img_paths) * self.patches_per_image\n",
        "        else:\n",
        "            self.effective_len = len(self.img_paths)\n",
        "\n",
        "    def __len__(self) -> int:\n",
        "        return self.effective_len\n",
        "\n",
        "    def _load_img_pts(\n",
        "        self,\n",
        "        idx_base: int\n",
        "    ) -> Tuple[np.ndarray, np.ndarray]:\n",
        "        \"\"\"Load an image and its transformed annotation points.\"\"\"\n",
        "        pimg = self.img_paths[idx_base]\n",
        "        img = imread_rgb(pimg)\n",
        "        h, w = img.shape[:2]\n",
        "        plbl = derive_json_path(self.lbl_dir, pimg)\n",
        "        pts, _ = parse_points_from_json(plbl)\n",
        "\n",
        "        # Augment: horizontal flip\n",
        "        if self.mode == \"train\" and self.aug and random.random() < 0.5:\n",
        "            img = img[:, ::-1, :].copy()\n",
        "            if len(pts) > 0:\n",
        "                pts = pts.copy()\n",
        "                pts[:, 0] = (w - 1) - pts[:, 0]\n",
        "\n",
        "        # Augment: colour jitter\n",
        "        if self.mode == \"train\" and self.aug and random.random() < 0.5:\n",
        "            pil = transforms.ToPILImage()(img)\n",
        "            pil = self.color_jit(pil)\n",
        "            img = np.array(pil)\n",
        "\n",
        "        # Letterbox to base size\n",
        "        canvas, scale, left, top = letterbox(img, target=self.base_size)\n",
        "        if len(pts) > 0:\n",
        "            pts_tr = pts.copy()\n",
        "            pts_tr[:, 0] = pts_tr[:, 0] * scale + left\n",
        "            pts_tr[:, 1] = pts_tr[:, 1] * scale + top\n",
        "            # Clamp to canvas bounds\n",
        "            m = (\n",
        "                (pts_tr[:, 0] >= 0)\n",
        "                & (pts_tr[:, 0] < self.base_size)\n",
        "                & (pts_tr[:, 1] >= 0)\n",
        "                & (pts_tr[:, 1] < self.base_size)\n",
        "            )\n",
        "            pts_tr = pts_tr[m]\n",
        "        else:\n",
        "            pts_tr = np.zeros((0, 2), np.float32)\n",
        "        return canvas, pts_tr\n",
        "\n",
        "    def __getitem__(\n",
        "        self,\n",
        "        index: int\n",
        "    ) -> Tuple[torch.Tensor, torch.Tensor, torch.Tensor]:\n",
        "        # Map global index to an image index (for patch training)\n",
        "        if self.mode == \"train\" and self.patch_size > 0 and self.patches_per_image > 1:\n",
        "            idx_base = index // self.patches_per_image\n",
        "        else:\n",
        "            idx_base = index\n",
        "        idx_base %= len(self.img_paths)\n",
        "\n",
        "        img_lb, pts_tr = self._load_img_pts(idx_base)\n",
        "\n",
        "        # Optional patch cropping\n",
        "        if self.mode == \"train\" and self.patch_size > 0:\n",
        "            ps = self.patch_size\n",
        "            if ps > self.base_size:\n",
        "                raise ValueError(\"patch_size must be <= base_size\")\n",
        "\n",
        "            max_off = self.base_size - ps\n",
        "            pts_out = np.zeros((0, 2), np.float32)\n",
        "\n",
        "            # Attempt to find a non-empty patch when requested\n",
        "            for attempt in range(10) if self.avoid_empty_patches else [0]:\n",
        "                ox = 0 if max_off <= 0 else random.randint(0, max_off)\n",
        "                oy = 0 if max_off <= 0 else random.randint(0, max_off)\n",
        "                crop = img_lb[oy : oy + ps, ox : ox + ps, :]\n",
        "                if len(pts_tr) > 0:\n",
        "                    pts_c = pts_tr.copy()\n",
        "                    pts_c[:, 0] -= ox\n",
        "                    pts_c[:, 1] -= oy\n",
        "                    m = (\n",
        "                        (pts_c[:, 0] >= 0)\n",
        "                        & (pts_c[:, 0] < ps)\n",
        "                        & (pts_c[:, 1] >= 0)\n",
        "                        & (pts_c[:, 1] < ps)\n",
        "                    )\n",
        "                    pts_c = pts_c[m]\n",
        "                else:\n",
        "                    pts_c = np.zeros((0, 2), np.float32)\n",
        "                # If avoid_empty_patches is False, we break immediately (no retries)\n",
        "                if not self.avoid_empty_patches or len(pts_c) > 0 or attempt == 9:\n",
        "                    pts_out = pts_c\n",
        "                    img_out = crop\n",
        "                    break\n",
        "            grid = ps\n",
        "        else:\n",
        "            img_out = img_lb\n",
        "            pts_out = pts_tr\n",
        "            grid = self.base_size\n",
        "\n",
        "        # Build density map\n",
        "        den = make_density_map(\n",
        "            pts_out,\n",
        "            grid_size=grid,\n",
        "            down=self.down,\n",
        "            sigma_mode=self.sigma_mode,\n",
        "        )\n",
        "\n",
        "        # Convert to tensors and normalise\n",
        "        t = self.to_tensor(img_out)\n",
        "        t = self.normalize(t)\n",
        "        d = torch.from_numpy(den).unsqueeze(0)\n",
        "        c = torch.tensor([float(len(pts_out))], dtype=torch.float32)\n",
        "        return t, d, c\n",
        "\n",
        "print(\"✅ CrowdDataset class implemented!\")"
      ]
    },
    {
      "cell_type": "markdown",
      "id": "09b01a97",
      "metadata": {
        "id": "09b01a97"
      },
      "source": [
        "# Model Architecture"
      ]
    },
    {
      "cell_type": "code",
      "execution_count": 6,
      "id": "907f78bd",
      "metadata": {
        "id": "907f78bd",
        "outputId": "10babacb-f0e0-41d3-da55-bd2b9de47dd5",
        "colab": {
          "base_uri": "https://localhost:8080/"
        }
      },
      "outputs": [
        {
          "output_type": "stream",
          "name": "stdout",
          "text": [
            "✅ SFCN model architecture implemented!\n",
            "📊 Model parameters: 10,256,449\n",
            "🔍 Input shape: torch.Size([1, 3, 384, 384])\n",
            "🎯 Output shape: torch.Size([1, 1, 48, 48])\n"
          ]
        }
      ],
      "source": [
        "class SpatialEncoder(nn.Module):\n",
        "    \"\"\"Simple spatial encoder that propagates information in four directions.\"\"\"\n",
        "\n",
        "    def __init__(\n",
        "        self,\n",
        "        channels: int,\n",
        "        k: int = 9\n",
        "    ) -> None:\n",
        "        super().__init__()\n",
        "        p = k // 2\n",
        "        self.h1 = nn.Conv2d(\n",
        "            in_channels=channels,\n",
        "            out_channels=channels,\n",
        "            kernel_size=(1, k),\n",
        "            padding=(0, p),\n",
        "            groups=channels,\n",
        "            bias=False\n",
        "        )\n",
        "        self.h2 = nn.Conv2d(\n",
        "            in_channels=channels,\n",
        "            out_channels=channels,\n",
        "            kernel_size=(1, k),\n",
        "            padding=(0, p),\n",
        "            groups=channels,\n",
        "            bias=False\n",
        "        )\n",
        "        self.v1 = nn.Conv2d(\n",
        "            in_channels=channels,\n",
        "            out_channels=channels,\n",
        "            kernel_size=(k, 1),\n",
        "            padding=(p, 0),\n",
        "            groups=channels,\n",
        "            bias=False\n",
        "        )\n",
        "        self.v2 = nn.Conv2d(\n",
        "            in_channels=channels,\n",
        "            out_channels=channels,\n",
        "            kernel_size=(k, 1),\n",
        "            padding=(p, 0),\n",
        "            groups=channels,\n",
        "            bias=False\n",
        "        )\n",
        "        self.proj = nn.Conv2d(\n",
        "            in_channels=channels * 4,\n",
        "            out_channels=channels,\n",
        "            kernel_size=1,\n",
        "            bias=False\n",
        "        )\n",
        "        self.act = nn.ReLU(inplace=True)\n",
        "\n",
        "    def forward(self, x: torch.Tensor) -> torch.Tensor:\n",
        "        y = torch.cat([self.h1(x), self.h2(x), self.v1(x), self.v2(x)], dim=1)\n",
        "        return self.act(self.proj(y))\n",
        "\n",
        "\n",
        "class SFCN_VGG(nn.Module):\n",
        "    \"\"\"Simplified SFCN with VGG-16 backbone and spatial encoder.\"\"\"\n",
        "\n",
        "    def __init__(self, pretrained: bool = True) -> None:\n",
        "        super().__init__()\n",
        "        vgg = models.vgg16_bn(\n",
        "            weights=models.VGG16_BN_Weights.IMAGENET1K_V1 if pretrained else None\n",
        "        )\n",
        "        # Use features up to conv4_3 (stride 8)\n",
        "        self.frontend = nn.Sequential(*list(vgg.features.children())[:33])\n",
        "        self.senc = SpatialEncoder(512, k=9)\n",
        "        self.head = nn.Sequential(\n",
        "            nn.Conv2d(512, 256, 3, padding=1),\n",
        "            nn.ReLU(inplace=True),\n",
        "            nn.Conv2d(256, 128, 3, padding=1),\n",
        "            nn.ReLU(inplace=True),\n",
        "            nn.Conv2d(128, 64, 3, padding=1),\n",
        "            nn.ReLU(inplace=True),\n",
        "            nn.Conv2d(64, 1, 1),\n",
        "        )\n",
        "\n",
        "    def forward(self, x: torch.Tensor) -> torch.Tensor:\n",
        "        x = self.frontend(x)\n",
        "        x = self.senc(x)\n",
        "        x = self.head(x)\n",
        "        return torch.nn.functional.softplus(x)\n",
        "\n",
        "print(\"✅ SFCN model architecture implemented!\")\n",
        "\n",
        "# Test model instantiation\n",
        "model_test = SFCN_VGG(pretrained=False)\n",
        "print(f\"📊 Model parameters: {sum(p.numel() for p in model_test.parameters()):,}\")\n",
        "\n",
        "# Test forward pass\n",
        "dummy_input = torch.randn(1, 3, 384, 384)\n",
        "with torch.no_grad():\n",
        "    output = model_test(dummy_input)\n",
        "    print(f\"🔍 Input shape: {dummy_input.shape}\")\n",
        "    print(f\"🎯 Output shape: {output.shape}\")\n",
        "\n",
        "del model_test, dummy_input, output"
      ]
    },
    {
      "cell_type": "markdown",
      "id": "9d333605",
      "metadata": {
        "id": "9d333605"
      },
      "source": [
        "# Training"
      ]
    },
    {
      "cell_type": "markdown",
      "id": "cd2d4797",
      "metadata": {
        "id": "cd2d4797"
      },
      "source": [
        "## Training Utility Functions"
      ]
    },
    {
      "cell_type": "code",
      "execution_count": 7,
      "id": "5c48bc5a",
      "metadata": {
        "id": "5c48bc5a",
        "outputId": "88d79164-bcb6-48c5-825d-68cf88297688",
        "colab": {
          "base_uri": "https://localhost:8080/"
        }
      },
      "outputs": [
        {
          "output_type": "stream",
          "name": "stdout",
          "text": [
            "✅ Training and evaluation functions implemented!\n"
          ]
        }
      ],
      "source": [
        "def train_epoch(\n",
        "    model: nn.Module,\n",
        "    loader: DataLoader,\n",
        "    device: torch.device,\n",
        "    optimizer: torch.optim.Optimizer,\n",
        "    scaler: torch.cuda.amp.GradScaler = None,\n",
        "    accum_steps: int = 1,\n",
        "    criterion: str = \"mse\",\n",
        "    count_loss_alpha: float = 0.0,\n",
        ") -> float:\n",
        "    \"\"\"Train the model for one epoch and return the mean absolute error.\"\"\"\n",
        "    model.train()\n",
        "\n",
        "    if criterion == \"mse\":\n",
        "        crit = nn.MSELoss()\n",
        "    elif criterion == \"huber\":\n",
        "        crit = nn.SmoothL1Loss()\n",
        "    else:\n",
        "        raise ValueError(\"criterion must be 'mse' or 'huber'\")\n",
        "\n",
        "    running_mae, nimg = 0.0, 0\n",
        "    total_pred_count, total_gt_count = 0.0, 0.0\n",
        "    optimizer.zero_grad(set_to_none=True)\n",
        "\n",
        "    for step, (imgs, dens, _) in enumerate(tqdm(loader, desc=\"Train\", leave=False), 1):\n",
        "        imgs = imgs.to(device)\n",
        "        dens = dens.to(device)\n",
        "        if scaler is not None:\n",
        "            with torch.autocast(device_type=\"cuda\", dtype=torch.float16):\n",
        "                preds = model(imgs)\n",
        "                map_loss = crit(preds, dens)\n",
        "                if count_loss_alpha > 0.0:\n",
        "                    pred_cnt = preds.sum(dim=(1, 2, 3))\n",
        "                    gt_cnt = dens.sum(dim=(1, 2, 3))\n",
        "                    cnt_loss = F.mse_loss(pred_cnt, gt_cnt)\n",
        "                    total_loss = (map_loss + count_loss_alpha * cnt_loss) / accum_steps\n",
        "                else:\n",
        "                    total_loss = map_loss / accum_steps\n",
        "\n",
        "            scaler.scale(total_loss).backward()\n",
        "            if step % accum_steps == 0:\n",
        "                scaler.step(optimizer)\n",
        "                scaler.update()\n",
        "                optimizer.zero_grad(set_to_none=True)\n",
        "        else:\n",
        "            preds = model(imgs)\n",
        "            map_loss = crit(preds, dens)\n",
        "            if count_loss_alpha > 0.0:\n",
        "                pred_cnt = preds.sum(dim=(1, 2, 3))\n",
        "                gt_cnt = dens.sum(dim=(1, 2, 3))\n",
        "                cnt_loss = F.mse_loss(pred_cnt, gt_cnt)\n",
        "                total_loss = (map_loss + count_loss_alpha * cnt_loss) / accum_steps\n",
        "            else:\n",
        "                total_loss = map_loss / accum_steps\n",
        "\n",
        "            total_loss.backward()\n",
        "\n",
        "            if step % accum_steps == 0:\n",
        "                optimizer.step()\n",
        "                optimizer.zero_grad(set_to_none=True)\n",
        "\n",
        "        with torch.no_grad():\n",
        "            pc = preds.sum(dim=(1, 2, 3)).detach().cpu().numpy()\n",
        "            gc = dens.sum(dim=(1, 2, 3)).detach().cpu().numpy()\n",
        "            running_mae += np.abs(pc - gc).sum()\n",
        "            total_pred_count += pc.sum()\n",
        "            total_gt_count += gc.sum()\n",
        "            nimg += imgs.size(0)\n",
        "\n",
        "    avg_pred = total_pred_count / max(1, nimg)\n",
        "    avg_gt = total_gt_count / max(1, nimg)\n",
        "    print(f\"Avg pred count: {avg_pred:.1f} vs GT {avg_gt:.1f}\")\n",
        "    return running_mae / max(1, nimg)\n",
        "\n",
        "\n",
        "@torch.no_grad()\n",
        "def evaluate(\n",
        "    model: nn.Module,\n",
        "    loader: DataLoader,\n",
        "    device: torch.device,\n",
        ") -> Tuple[float, float]:\n",
        "    \"\"\"Evaluate the model on a validation set and compute MAE and RMSE.\"\"\"\n",
        "    model.eval()\n",
        "    mae, mse, nimg = 0.0, 0.0, 0\n",
        "\n",
        "    for imgs, dens, _ in tqdm(loader, desc=\"Val\", leave=False):\n",
        "        imgs = imgs.to(device)\n",
        "        dens = dens.to(device)\n",
        "        pred = model(imgs)\n",
        "        diff = (pred.sum(dim=(1, 2, 3)) - dens.sum(dim=(1, 2, 3))).detach().cpu().numpy()\n",
        "        mae += np.abs(diff).sum()\n",
        "        mse += (diff ** 2).sum()\n",
        "        nimg += imgs.size(0)\n",
        "    return mae / max(1, nimg), math.sqrt(mse / max(1, nimg))\n",
        "\n",
        "print(\"✅ Training and evaluation functions implemented!\")"
      ]
    },
    {
      "cell_type": "markdown",
      "id": "1b5d33e4",
      "metadata": {
        "id": "1b5d33e4"
      },
      "source": [
        "## Data Loading and Preparation"
      ]
    },
    {
      "cell_type": "code",
      "execution_count": 8,
      "id": "34701acd",
      "metadata": {
        "id": "34701acd",
        "outputId": "ad3b9d66-9ba5-4334-aecb-8d63b3524480",
        "colab": {
          "base_uri": "https://localhost:8080/"
        }
      },
      "outputs": [
        {
          "output_type": "stream",
          "name": "stdout",
          "text": [
            "🔍 Checking data directories...\n",
            "   Images: /content/dataset/train/images -> ✅ Exists\n",
            "   Labels: /content/dataset/train/labels -> ✅ Exists\n",
            "📊 Data split: 1710 train, 190 validation\n",
            "📦 Training dataset: 6840 samples\n",
            "📦 Validation dataset: 190 samples\n",
            "🚀 Data loaders created!\n",
            "   Train batches: 570\n",
            "   Val batches: 16\n"
          ]
        }
      ],
      "source": [
        "# Check if data directories exist\n",
        "img_dir = config['img_dir']\n",
        "label_dir = config['label_dir']\n",
        "\n",
        "print(f\"🔍 Checking data directories...\")\n",
        "print(f\"   Images: {img_dir} -> {'✅ Exists' if os.path.exists(img_dir) else '❌ Not found'}\")\n",
        "print(f\"   Labels: {label_dir} -> {'✅ Exists' if os.path.exists(label_dir) else '❌ Not found'}\")\n",
        "\n",
        "if not os.path.exists(img_dir):\n",
        "    raise Exception(\"❌ Image directory not found. Please check the path and try again.\")\n",
        "\n",
        "# Build list of images and randomly shuffle before splitting\n",
        "all_imgs = sorted(glob(os.path.join(img_dir, \"*.*\")))\n",
        "random.shuffle(all_imgs)\n",
        "n_images = len(all_imgs)\n",
        "\n",
        "if n_images < 2:\n",
        "    raise ValueError(\"Need at least 2 images for training and validation\")\n",
        "\n",
        "n_val = max(1, int(0.1 * n_images))  # 10% for validation\n",
        "n_train = n_images - n_val\n",
        "train_imgs = all_imgs[:n_train]\n",
        "val_imgs = all_imgs[n_train:]\n",
        "\n",
        "print(f\"📊 Data split: {n_train} train, {n_val} validation\")\n",
        "\n",
        "# Instantiate datasets\n",
        "train_ds = CrowdDataset(\n",
        "    config['img_dir'],\n",
        "    config['label_dir'],\n",
        "    base_size=config['base_size'],\n",
        "    down=config['down'],\n",
        "    aug=True,\n",
        "    mode=\"train\",\n",
        "    patch_size=config['patch_size'],\n",
        "    patches_per_image=config['patches_per_image'],\n",
        "    sigma_mode=config['sigma_mode'],\n",
        "    avoid_empty_patches=config['avoid_empty_patches'],\n",
        ")\n",
        "val_ds = CrowdDataset(\n",
        "    config['img_dir'],\n",
        "    config['label_dir'],\n",
        "    base_size=config['base_size'],\n",
        "    down=config['down'],\n",
        "    aug=False,\n",
        "    mode=\"val\",\n",
        "    patch_size=0,\n",
        "    patches_per_image=1,\n",
        "    sigma_mode=config['sigma_mode'],\n",
        "    avoid_empty_patches=False,\n",
        ")\n",
        "\n",
        "# Override image paths after shuffling\n",
        "train_ds.img_paths = train_imgs\n",
        "val_ds.img_paths = val_imgs\n",
        "\n",
        "# Recompute effective lengths for patch training\n",
        "if train_ds.mode == \"train\" and train_ds.patch_size > 0 and train_ds.patches_per_image > 1:\n",
        "    train_ds.effective_len = len(train_ds.img_paths) * train_ds.patches_per_image\n",
        "else:\n",
        "    train_ds.effective_len = len(train_ds.img_paths)\n",
        "\n",
        "val_ds.effective_len = len(val_ds.img_paths)\n",
        "\n",
        "print(f\"📦 Training dataset: {len(train_ds)} samples\")\n",
        "print(f\"📦 Validation dataset: {len(val_ds)} samples\")\n",
        "\n",
        "# Data loaders\n",
        "train_loader = DataLoader(\n",
        "    train_ds,\n",
        "    batch_size=config['batch_size'],\n",
        "    shuffle=True,\n",
        "    num_workers=config['num_workers'],\n",
        "    pin_memory=True,\n",
        "    drop_last=True,\n",
        ")\n",
        "val_loader = DataLoader(\n",
        "    val_ds,\n",
        "    batch_size=config['batch_size'],\n",
        "    shuffle=False,\n",
        "    num_workers=config['num_workers'],\n",
        "    pin_memory=True,\n",
        ")\n",
        "\n",
        "print(f\"🚀 Data loaders created!\")\n",
        "print(f\"   Train batches: {len(train_loader)}\")\n",
        "print(f\"   Val batches: {len(val_loader)}\")"
      ]
    },
    {
      "cell_type": "markdown",
      "id": "152244f4",
      "metadata": {
        "id": "152244f4"
      },
      "source": [
        "## Training Loop"
      ]
    },
    {
      "cell_type": "code",
      "execution_count": 9,
      "id": "503e3cc2",
      "metadata": {
        "id": "503e3cc2",
        "outputId": "7d2d91f4-e003-4325-bbb0-b3134075eaf3",
        "colab": {
          "base_uri": "https://localhost:8080/"
        }
      },
      "outputs": [
        {
          "output_type": "stream",
          "name": "stdout",
          "text": [
            "🏗️  Initializing model and training components...\n",
            "Downloading: \"https://download.pytorch.org/models/vgg16_bn-6c64b313.pth\" to /root/.cache/torch/hub/checkpoints/vgg16_bn-6c64b313.pth\n"
          ]
        },
        {
          "output_type": "stream",
          "name": "stderr",
          "text": [
            "100%|██████████| 528M/528M [00:07<00:00, 77.7MB/s]\n"
          ]
        },
        {
          "output_type": "stream",
          "name": "stdout",
          "text": [
            "📊 Model parameters: 10,256,449\n",
            "⚡ Mixed precision: Enabled\n",
            "✅ Setup complete! Starting training...\n",
            "============================================================\n"
          ]
        }
      ],
      "source": [
        "# Initialize model and training components\n",
        "print(\"🏗️  Initializing model and training components...\")\n",
        "\n",
        "# Create model\n",
        "model = SFCN_VGG(pretrained=True).to(device)\n",
        "print(f\"📊 Model parameters: {sum(p.numel() for p in model.parameters()):,}\")\n",
        "\n",
        "# Optimizer and scheduler\n",
        "optimizer = torch.optim.AdamW(\n",
        "    model.parameters(),\n",
        "    lr=config['lr'],\n",
        "    weight_decay=1e-4\n",
        ")\n",
        "scheduler = torch.optim.lr_scheduler.CosineAnnealingLR(\n",
        "    optimizer,\n",
        "    T_max=config['epochs']\n",
        ")\n",
        "\n",
        "# Mixed precision scaler\n",
        "scaler = torch.cuda.amp.GradScaler() if (config['amp'] and device.type == \"cuda\") else None\n",
        "print(f\"⚡ Mixed precision: {'Enabled' if scaler is not None else 'Disabled'}\")\n",
        "\n",
        "# Training state\n",
        "best_mae = float(\"inf\")\n",
        "patience = config['early_stop_patience']\n",
        "bad_epochs = 0\n",
        "training_history = {\n",
        "    'train_mae': [],\n",
        "    'val_mae': [],\n",
        "    'val_rmse': [],\n",
        "    'epoch': []\n",
        "}\n",
        "\n",
        "print(\"✅ Setup complete! Starting training...\")\n",
        "print(\"=\"*60)"
      ]
    },
    {
      "cell_type": "code",
      "source": [
        "# Main Training Loop\n",
        "for epoch in range(1, config['epochs'] + 1):\n",
        "    print(f\"\\n📈 Epoch {epoch}/{config['epochs']}\")\n",
        "\n",
        "    # Training phase\n",
        "    tr_mae = train_epoch(\n",
        "        model,\n",
        "        train_loader,\n",
        "        device,\n",
        "        optimizer,\n",
        "        scaler,\n",
        "        accum_steps=config['accum_steps'],\n",
        "        criterion=config['criterion'],\n",
        "        count_loss_alpha=config['count_loss_alpha'],\n",
        "    )\n",
        "\n",
        "    # Validation phase\n",
        "    va_mae, va_rmse = evaluate(model, val_loader, device)\n",
        "\n",
        "    # Learning rate scheduling\n",
        "    scheduler.step()\n",
        "\n",
        "    # Update training history\n",
        "    training_history['train_mae'].append(tr_mae)\n",
        "    training_history['val_mae'].append(va_mae)\n",
        "    training_history['val_rmse'].append(va_rmse)\n",
        "    training_history['epoch'].append(epoch)\n",
        "\n",
        "    # Print metrics\n",
        "    print(f\"📊 Train MAE: {tr_mae:.3f} | Val MAE: {va_mae:.3f} | Val RMSE: {va_rmse:.3f}\")\n",
        "    print(f\"🎯 Learning Rate: {optimizer.param_groups[0]['lr']:.6f}\")\n",
        "\n",
        "    # Model checkpointing\n",
        "    if va_mae + 1e-6 < best_mae:\n",
        "        best_mae = va_mae\n",
        "        bad_epochs = 0\n",
        "\n",
        "        # Save checkpoint\n",
        "        checkpoint = {\n",
        "            \"model\": model.state_dict(),\n",
        "            \"epoch\": epoch,\n",
        "            \"val_mae\": va_mae,\n",
        "            \"config\": config,\n",
        "            \"training_history\": training_history\n",
        "        }\n",
        "        torch.save(checkpoint, config['save_path'])\n",
        "        print(f\"✅ New best model saved! MAE: {best_mae:.3f}\")\n",
        "    else:\n",
        "        bad_epochs += 1\n",
        "        print(f\"⏳ No improvement for {bad_epochs} epoch(s)\")\n",
        "\n",
        "        # Try to remove early stopping\n",
        "        # if bad_epochs >= patience:\n",
        "        #     print(f\"🛑 Early stopping at epoch {epoch}. Best Val MAE: {best_mae:.3f}\")\n",
        "        #     break\n",
        "\n",
        "print(\"\\n\" + \"=\"*60)\n",
        "print(f\"🎉 Training completed! Best validation MAE: {best_mae:.3f}\")\n",
        "print(f\"💾 Best model saved to: {config['save_path']}\")"
      ],
      "metadata": {
        "id": "kveGEJdfsfwK",
        "outputId": "8cedca45-9b0e-44a9-f1e4-455a49f49988",
        "colab": {
          "base_uri": "https://localhost:8080/",
          "height": 1000
        }
      },
      "id": "kveGEJdfsfwK",
      "execution_count": 10,
      "outputs": [
        {
          "output_type": "stream",
          "name": "stdout",
          "text": [
            "\n",
            "📈 Epoch 1/120\n"
          ]
        },
        {
          "output_type": "stream",
          "name": "stderr",
          "text": []
        },
        {
          "output_type": "stream",
          "name": "stdout",
          "text": [
            "Avg pred count: 62.8 vs GT 28.9\n"
          ]
        },
        {
          "output_type": "stream",
          "name": "stderr",
          "text": []
        },
        {
          "output_type": "stream",
          "name": "stdout",
          "text": [
            "📊 Train MAE: 57.367 | Val MAE: 74.520 | Val RMSE: 262.891\n",
            "🎯 Learning Rate: 0.000200\n",
            "✅ New best model saved! MAE: 74.520\n",
            "\n",
            "📈 Epoch 2/120\n"
          ]
        },
        {
          "output_type": "stream",
          "name": "stderr",
          "text": []
        },
        {
          "output_type": "stream",
          "name": "stdout",
          "text": [
            "Avg pred count: 22.5 vs GT 29.0\n"
          ]
        },
        {
          "output_type": "stream",
          "name": "stderr",
          "text": []
        },
        {
          "output_type": "stream",
          "name": "stdout",
          "text": [
            "📊 Train MAE: 12.084 | Val MAE: 56.824 | Val RMSE: 156.050\n",
            "🎯 Learning Rate: 0.000200\n",
            "✅ New best model saved! MAE: 56.824\n",
            "\n",
            "📈 Epoch 3/120\n"
          ]
        },
        {
          "output_type": "stream",
          "name": "stderr",
          "text": []
        },
        {
          "output_type": "stream",
          "name": "stdout",
          "text": [
            "Avg pred count: 21.8 vs GT 28.1\n"
          ]
        },
        {
          "output_type": "stream",
          "name": "stderr",
          "text": []
        },
        {
          "output_type": "stream",
          "name": "stdout",
          "text": [
            "📊 Train MAE: 12.613 | Val MAE: 59.857 | Val RMSE: 159.434\n",
            "🎯 Learning Rate: 0.000200\n",
            "⏳ No improvement for 1 epoch(s)\n",
            "\n",
            "📈 Epoch 4/120\n"
          ]
        },
        {
          "output_type": "stream",
          "name": "stderr",
          "text": []
        },
        {
          "output_type": "stream",
          "name": "stdout",
          "text": [
            "Avg pred count: 23.7 vs GT 29.4\n"
          ]
        },
        {
          "output_type": "stream",
          "name": "stderr",
          "text": []
        },
        {
          "output_type": "stream",
          "name": "stdout",
          "text": [
            "📊 Train MAE: 12.977 | Val MAE: 155.586 | Val RMSE: 346.615\n",
            "🎯 Learning Rate: 0.000199\n",
            "⏳ No improvement for 2 epoch(s)\n",
            "\n",
            "📈 Epoch 5/120\n"
          ]
        },
        {
          "output_type": "stream",
          "name": "stderr",
          "text": []
        },
        {
          "output_type": "stream",
          "name": "stdout",
          "text": [
            "Avg pred count: 24.4 vs GT 28.4\n"
          ]
        },
        {
          "output_type": "stream",
          "name": "stderr",
          "text": []
        },
        {
          "output_type": "stream",
          "name": "stdout",
          "text": [
            "📊 Train MAE: 10.454 | Val MAE: 31.204 | Val RMSE: 86.524\n",
            "🎯 Learning Rate: 0.000199\n",
            "✅ New best model saved! MAE: 31.204\n",
            "\n",
            "📈 Epoch 6/120\n"
          ]
        },
        {
          "output_type": "stream",
          "name": "stderr",
          "text": []
        },
        {
          "output_type": "stream",
          "name": "stdout",
          "text": [
            "Avg pred count: 26.5 vs GT 29.6\n"
          ]
        },
        {
          "output_type": "stream",
          "name": "stderr",
          "text": []
        },
        {
          "output_type": "stream",
          "name": "stdout",
          "text": [
            "📊 Train MAE: 9.091 | Val MAE: 31.502 | Val RMSE: 88.463\n",
            "🎯 Learning Rate: 0.000199\n",
            "⏳ No improvement for 1 epoch(s)\n",
            "\n",
            "📈 Epoch 7/120\n"
          ]
        },
        {
          "output_type": "stream",
          "name": "stderr",
          "text": []
        },
        {
          "output_type": "stream",
          "name": "stdout",
          "text": [
            "Avg pred count: 25.5 vs GT 28.7\n"
          ]
        },
        {
          "output_type": "stream",
          "name": "stderr",
          "text": []
        },
        {
          "output_type": "stream",
          "name": "stdout",
          "text": [
            "📊 Train MAE: 9.074 | Val MAE: 41.052 | Val RMSE: 113.622\n",
            "🎯 Learning Rate: 0.000198\n",
            "⏳ No improvement for 2 epoch(s)\n",
            "\n",
            "📈 Epoch 8/120\n"
          ]
        },
        {
          "output_type": "stream",
          "name": "stderr",
          "text": []
        },
        {
          "output_type": "stream",
          "name": "stdout",
          "text": [
            "Avg pred count: 26.5 vs GT 29.3\n"
          ]
        },
        {
          "output_type": "stream",
          "name": "stderr",
          "text": []
        },
        {
          "output_type": "stream",
          "name": "stdout",
          "text": [
            "📊 Train MAE: 8.797 | Val MAE: 29.589 | Val RMSE: 79.513\n",
            "🎯 Learning Rate: 0.000198\n",
            "✅ New best model saved! MAE: 29.589\n",
            "\n",
            "📈 Epoch 9/120\n"
          ]
        },
        {
          "output_type": "stream",
          "name": "stderr",
          "text": []
        },
        {
          "output_type": "stream",
          "name": "stdout",
          "text": [
            "Avg pred count: 25.6 vs GT 29.1\n"
          ]
        },
        {
          "output_type": "stream",
          "name": "stderr",
          "text": []
        },
        {
          "output_type": "stream",
          "name": "stdout",
          "text": [
            "📊 Train MAE: 10.906 | Val MAE: 39.978 | Val RMSE: 87.291\n",
            "🎯 Learning Rate: 0.000197\n",
            "⏳ No improvement for 1 epoch(s)\n",
            "\n",
            "📈 Epoch 10/120\n"
          ]
        },
        {
          "output_type": "stream",
          "name": "stderr",
          "text": []
        },
        {
          "output_type": "stream",
          "name": "stdout",
          "text": [
            "Avg pred count: 26.5 vs GT 29.2\n"
          ]
        },
        {
          "output_type": "stream",
          "name": "stderr",
          "text": []
        },
        {
          "output_type": "stream",
          "name": "stdout",
          "text": [
            "📊 Train MAE: 8.356 | Val MAE: 28.529 | Val RMSE: 84.764\n",
            "🎯 Learning Rate: 0.000197\n",
            "✅ New best model saved! MAE: 28.529\n",
            "\n",
            "📈 Epoch 11/120\n"
          ]
        },
        {
          "output_type": "stream",
          "name": "stderr",
          "text": []
        },
        {
          "output_type": "stream",
          "name": "stdout",
          "text": [
            "Avg pred count: 25.0 vs GT 27.6\n"
          ]
        },
        {
          "output_type": "stream",
          "name": "stderr",
          "text": []
        },
        {
          "output_type": "stream",
          "name": "stdout",
          "text": [
            "📊 Train MAE: 7.314 | Val MAE: 20.496 | Val RMSE: 54.087\n",
            "🎯 Learning Rate: 0.000196\n",
            "✅ New best model saved! MAE: 20.496\n",
            "\n",
            "📈 Epoch 12/120\n"
          ]
        },
        {
          "output_type": "stream",
          "name": "stderr",
          "text": []
        },
        {
          "output_type": "stream",
          "name": "stdout",
          "text": [
            "Avg pred count: 26.8 vs GT 29.0\n"
          ]
        },
        {
          "output_type": "stream",
          "name": "stderr",
          "text": []
        },
        {
          "output_type": "stream",
          "name": "stdout",
          "text": [
            "📊 Train MAE: 7.648 | Val MAE: 24.992 | Val RMSE: 78.559\n",
            "🎯 Learning Rate: 0.000195\n",
            "⏳ No improvement for 1 epoch(s)\n",
            "\n",
            "📈 Epoch 13/120\n"
          ]
        },
        {
          "output_type": "stream",
          "name": "stderr",
          "text": []
        },
        {
          "output_type": "stream",
          "name": "stdout",
          "text": [
            "Avg pred count: 27.5 vs GT 29.9\n"
          ]
        },
        {
          "output_type": "stream",
          "name": "stderr",
          "text": []
        },
        {
          "output_type": "stream",
          "name": "stdout",
          "text": [
            "📊 Train MAE: 7.424 | Val MAE: 49.502 | Val RMSE: 108.212\n",
            "🎯 Learning Rate: 0.000194\n",
            "⏳ No improvement for 2 epoch(s)\n",
            "\n",
            "📈 Epoch 14/120\n"
          ]
        },
        {
          "output_type": "stream",
          "name": "stderr",
          "text": []
        },
        {
          "output_type": "stream",
          "name": "stdout",
          "text": [
            "Avg pred count: 27.0 vs GT 29.0\n"
          ]
        },
        {
          "output_type": "stream",
          "name": "stderr",
          "text": []
        },
        {
          "output_type": "stream",
          "name": "stdout",
          "text": [
            "📊 Train MAE: 7.211 | Val MAE: 40.641 | Val RMSE: 102.562\n",
            "🎯 Learning Rate: 0.000193\n",
            "⏳ No improvement for 3 epoch(s)\n",
            "\n",
            "📈 Epoch 15/120\n"
          ]
        },
        {
          "output_type": "stream",
          "name": "stderr",
          "text": []
        },
        {
          "output_type": "stream",
          "name": "stdout",
          "text": [
            "Avg pred count: 27.3 vs GT 28.9\n"
          ]
        },
        {
          "output_type": "stream",
          "name": "stderr",
          "text": []
        },
        {
          "output_type": "stream",
          "name": "stdout",
          "text": [
            "📊 Train MAE: 6.575 | Val MAE: 49.469 | Val RMSE: 143.030\n",
            "🎯 Learning Rate: 0.000192\n",
            "⏳ No improvement for 4 epoch(s)\n",
            "\n",
            "📈 Epoch 16/120\n"
          ]
        },
        {
          "output_type": "stream",
          "name": "stderr",
          "text": []
        },
        {
          "output_type": "stream",
          "name": "stdout",
          "text": [
            "Avg pred count: 25.1 vs GT 28.2\n"
          ]
        },
        {
          "output_type": "stream",
          "name": "stderr",
          "text": []
        },
        {
          "output_type": "stream",
          "name": "stdout",
          "text": [
            "📊 Train MAE: 7.941 | Val MAE: 41.089 | Val RMSE: 132.747\n",
            "🎯 Learning Rate: 0.000191\n",
            "⏳ No improvement for 5 epoch(s)\n",
            "\n",
            "📈 Epoch 17/120\n"
          ]
        },
        {
          "output_type": "stream",
          "name": "stderr",
          "text": []
        },
        {
          "output_type": "stream",
          "name": "stdout",
          "text": [
            "Avg pred count: 27.4 vs GT 29.6\n"
          ]
        },
        {
          "output_type": "stream",
          "name": "stderr",
          "text": []
        },
        {
          "output_type": "stream",
          "name": "stdout",
          "text": [
            "📊 Train MAE: 6.922 | Val MAE: 24.256 | Val RMSE: 62.399\n",
            "🎯 Learning Rate: 0.000190\n",
            "⏳ No improvement for 6 epoch(s)\n",
            "\n",
            "📈 Epoch 18/120\n"
          ]
        },
        {
          "output_type": "stream",
          "name": "stderr",
          "text": []
        },
        {
          "output_type": "stream",
          "name": "stdout",
          "text": [
            "Avg pred count: 26.2 vs GT 28.7\n"
          ]
        },
        {
          "output_type": "stream",
          "name": "stderr",
          "text": []
        },
        {
          "output_type": "stream",
          "name": "stdout",
          "text": [
            "📊 Train MAE: 8.021 | Val MAE: 63.673 | Val RMSE: 132.984\n",
            "🎯 Learning Rate: 0.000189\n",
            "⏳ No improvement for 7 epoch(s)\n",
            "\n",
            "📈 Epoch 19/120\n"
          ]
        },
        {
          "output_type": "stream",
          "name": "stderr",
          "text": []
        },
        {
          "output_type": "stream",
          "name": "stdout",
          "text": [
            "Avg pred count: 25.0 vs GT 28.7\n"
          ]
        },
        {
          "output_type": "stream",
          "name": "stderr",
          "text": []
        },
        {
          "output_type": "stream",
          "name": "stdout",
          "text": [
            "📊 Train MAE: 9.359 | Val MAE: 26.233 | Val RMSE: 55.990\n",
            "🎯 Learning Rate: 0.000188\n",
            "⏳ No improvement for 8 epoch(s)\n",
            "\n",
            "📈 Epoch 20/120\n"
          ]
        },
        {
          "output_type": "stream",
          "name": "stderr",
          "text": []
        },
        {
          "output_type": "stream",
          "name": "stdout",
          "text": [
            "Avg pred count: 26.3 vs GT 28.6\n"
          ]
        },
        {
          "output_type": "stream",
          "name": "stderr",
          "text": []
        },
        {
          "output_type": "stream",
          "name": "stdout",
          "text": [
            "📊 Train MAE: 6.541 | Val MAE: 30.287 | Val RMSE: 66.639\n",
            "🎯 Learning Rate: 0.000187\n",
            "⏳ No improvement for 9 epoch(s)\n",
            "\n",
            "📈 Epoch 21/120\n"
          ]
        },
        {
          "output_type": "stream",
          "name": "stderr",
          "text": []
        },
        {
          "output_type": "stream",
          "name": "stdout",
          "text": [
            "Avg pred count: 26.7 vs GT 29.0\n"
          ]
        },
        {
          "output_type": "stream",
          "name": "stderr",
          "text": []
        },
        {
          "output_type": "stream",
          "name": "stdout",
          "text": [
            "📊 Train MAE: 6.637 | Val MAE: 38.241 | Val RMSE: 93.928\n",
            "🎯 Learning Rate: 0.000185\n",
            "⏳ No improvement for 10 epoch(s)\n",
            "\n",
            "📈 Epoch 22/120\n"
          ]
        },
        {
          "output_type": "stream",
          "name": "stderr",
          "text": []
        },
        {
          "output_type": "stream",
          "name": "stdout",
          "text": [
            "Avg pred count: 27.0 vs GT 28.7\n"
          ]
        },
        {
          "output_type": "stream",
          "name": "stderr",
          "text": []
        },
        {
          "output_type": "stream",
          "name": "stdout",
          "text": [
            "📊 Train MAE: 5.454 | Val MAE: 23.128 | Val RMSE: 63.282\n",
            "🎯 Learning Rate: 0.000184\n",
            "⏳ No improvement for 11 epoch(s)\n",
            "\n",
            "📈 Epoch 23/120\n"
          ]
        },
        {
          "output_type": "stream",
          "name": "stderr",
          "text": []
        },
        {
          "output_type": "stream",
          "name": "stdout",
          "text": [
            "Avg pred count: 27.3 vs GT 29.4\n"
          ]
        },
        {
          "output_type": "stream",
          "name": "stderr",
          "text": []
        },
        {
          "output_type": "stream",
          "name": "stdout",
          "text": [
            "📊 Train MAE: 6.809 | Val MAE: 32.717 | Val RMSE: 80.212\n",
            "🎯 Learning Rate: 0.000182\n",
            "⏳ No improvement for 12 epoch(s)\n",
            "\n",
            "📈 Epoch 24/120\n"
          ]
        },
        {
          "output_type": "stream",
          "name": "stderr",
          "text": []
        },
        {
          "output_type": "stream",
          "name": "stdout",
          "text": [
            "Avg pred count: 26.2 vs GT 29.0\n"
          ]
        },
        {
          "output_type": "stream",
          "name": "stderr",
          "text": []
        },
        {
          "output_type": "stream",
          "name": "stdout",
          "text": [
            "📊 Train MAE: 7.789 | Val MAE: 27.110 | Val RMSE: 62.948\n",
            "🎯 Learning Rate: 0.000181\n",
            "⏳ No improvement for 13 epoch(s)\n",
            "\n",
            "📈 Epoch 25/120\n"
          ]
        },
        {
          "output_type": "stream",
          "name": "stderr",
          "text": []
        },
        {
          "output_type": "stream",
          "name": "stdout",
          "text": [
            "Avg pred count: 27.4 vs GT 29.3\n"
          ]
        },
        {
          "output_type": "stream",
          "name": "stderr",
          "text": []
        },
        {
          "output_type": "stream",
          "name": "stdout",
          "text": [
            "📊 Train MAE: 6.195 | Val MAE: 30.763 | Val RMSE: 73.924\n",
            "🎯 Learning Rate: 0.000179\n",
            "⏳ No improvement for 14 epoch(s)\n",
            "\n",
            "📈 Epoch 26/120\n"
          ]
        },
        {
          "output_type": "stream",
          "name": "stderr",
          "text": []
        },
        {
          "output_type": "stream",
          "name": "stdout",
          "text": [
            "Avg pred count: 26.8 vs GT 28.6\n"
          ]
        },
        {
          "output_type": "stream",
          "name": "stderr",
          "text": []
        },
        {
          "output_type": "stream",
          "name": "stdout",
          "text": [
            "📊 Train MAE: 5.443 | Val MAE: 30.470 | Val RMSE: 97.216\n",
            "🎯 Learning Rate: 0.000178\n",
            "⏳ No improvement for 15 epoch(s)\n",
            "\n",
            "📈 Epoch 27/120\n"
          ]
        },
        {
          "output_type": "stream",
          "name": "stderr",
          "text": []
        },
        {
          "output_type": "stream",
          "name": "stdout",
          "text": [
            "Avg pred count: 27.3 vs GT 29.1\n"
          ]
        },
        {
          "output_type": "stream",
          "name": "stderr",
          "text": []
        },
        {
          "output_type": "stream",
          "name": "stdout",
          "text": [
            "📊 Train MAE: 6.040 | Val MAE: 20.413 | Val RMSE: 56.992\n",
            "🎯 Learning Rate: 0.000176\n",
            "✅ New best model saved! MAE: 20.413\n",
            "\n",
            "📈 Epoch 28/120\n"
          ]
        },
        {
          "output_type": "stream",
          "name": "stderr",
          "text": []
        },
        {
          "output_type": "stream",
          "name": "stdout",
          "text": [
            "Avg pred count: 27.4 vs GT 29.0\n"
          ]
        },
        {
          "output_type": "stream",
          "name": "stderr",
          "text": []
        },
        {
          "output_type": "stream",
          "name": "stdout",
          "text": [
            "📊 Train MAE: 5.491 | Val MAE: 23.323 | Val RMSE: 63.650\n",
            "🎯 Learning Rate: 0.000174\n",
            "⏳ No improvement for 1 epoch(s)\n",
            "\n",
            "📈 Epoch 29/120\n"
          ]
        },
        {
          "output_type": "stream",
          "name": "stderr",
          "text": []
        },
        {
          "output_type": "stream",
          "name": "stdout",
          "text": [
            "Avg pred count: 27.5 vs GT 29.1\n"
          ]
        },
        {
          "output_type": "stream",
          "name": "stderr",
          "text": []
        },
        {
          "output_type": "stream",
          "name": "stdout",
          "text": [
            "📊 Train MAE: 5.661 | Val MAE: 24.463 | Val RMSE: 49.659\n",
            "🎯 Learning Rate: 0.000173\n",
            "⏳ No improvement for 2 epoch(s)\n",
            "\n",
            "📈 Epoch 30/120\n"
          ]
        },
        {
          "output_type": "stream",
          "name": "stderr",
          "text": []
        },
        {
          "output_type": "stream",
          "name": "stdout",
          "text": [
            "Avg pred count: 26.5 vs GT 28.2\n"
          ]
        },
        {
          "output_type": "stream",
          "name": "stderr",
          "text": []
        },
        {
          "output_type": "stream",
          "name": "stdout",
          "text": [
            "📊 Train MAE: 5.580 | Val MAE: 21.003 | Val RMSE: 58.326\n",
            "🎯 Learning Rate: 0.000171\n",
            "⏳ No improvement for 3 epoch(s)\n",
            "\n",
            "📈 Epoch 31/120\n"
          ]
        },
        {
          "output_type": "stream",
          "name": "stderr",
          "text": []
        },
        {
          "output_type": "stream",
          "name": "stdout",
          "text": [
            "Avg pred count: 27.4 vs GT 28.7\n"
          ]
        },
        {
          "output_type": "stream",
          "name": "stderr",
          "text": []
        },
        {
          "output_type": "stream",
          "name": "stdout",
          "text": [
            "📊 Train MAE: 4.833 | Val MAE: 19.760 | Val RMSE: 57.056\n",
            "🎯 Learning Rate: 0.000169\n",
            "✅ New best model saved! MAE: 19.760\n",
            "\n",
            "📈 Epoch 32/120\n"
          ]
        },
        {
          "output_type": "stream",
          "name": "stderr",
          "text": []
        },
        {
          "output_type": "stream",
          "name": "stdout",
          "text": [
            "Avg pred count: 26.3 vs GT 28.6\n"
          ]
        },
        {
          "output_type": "stream",
          "name": "stderr",
          "text": []
        },
        {
          "output_type": "stream",
          "name": "stdout",
          "text": [
            "📊 Train MAE: 6.772 | Val MAE: 31.416 | Val RMSE: 62.344\n",
            "🎯 Learning Rate: 0.000167\n",
            "⏳ No improvement for 1 epoch(s)\n",
            "\n",
            "📈 Epoch 33/120\n"
          ]
        },
        {
          "output_type": "stream",
          "name": "stderr",
          "text": []
        },
        {
          "output_type": "stream",
          "name": "stdout",
          "text": [
            "Avg pred count: 27.5 vs GT 29.4\n"
          ]
        },
        {
          "output_type": "stream",
          "name": "stderr",
          "text": []
        },
        {
          "output_type": "stream",
          "name": "stdout",
          "text": [
            "📊 Train MAE: 6.168 | Val MAE: 49.789 | Val RMSE: 115.036\n",
            "🎯 Learning Rate: 0.000165\n",
            "⏳ No improvement for 2 epoch(s)\n",
            "\n",
            "📈 Epoch 34/120\n"
          ]
        },
        {
          "output_type": "stream",
          "name": "stderr",
          "text": []
        },
        {
          "output_type": "stream",
          "name": "stdout",
          "text": [
            "Avg pred count: 27.1 vs GT 29.2\n"
          ]
        },
        {
          "output_type": "stream",
          "name": "stderr",
          "text": []
        },
        {
          "output_type": "stream",
          "name": "stdout",
          "text": [
            "📊 Train MAE: 6.574 | Val MAE: 19.001 | Val RMSE: 49.234\n",
            "🎯 Learning Rate: 0.000163\n",
            "✅ New best model saved! MAE: 19.001\n",
            "\n",
            "📈 Epoch 35/120\n"
          ]
        },
        {
          "output_type": "stream",
          "name": "stderr",
          "text": []
        },
        {
          "output_type": "stream",
          "name": "stdout",
          "text": [
            "Avg pred count: 26.7 vs GT 28.2\n"
          ]
        },
        {
          "output_type": "stream",
          "name": "stderr",
          "text": []
        },
        {
          "output_type": "stream",
          "name": "stdout",
          "text": [
            "📊 Train MAE: 4.943 | Val MAE: 29.199 | Val RMSE: 57.484\n",
            "🎯 Learning Rate: 0.000161\n",
            "⏳ No improvement for 1 epoch(s)\n",
            "\n",
            "📈 Epoch 36/120\n"
          ]
        },
        {
          "output_type": "stream",
          "name": "stderr",
          "text": []
        },
        {
          "output_type": "stream",
          "name": "stdout",
          "text": [
            "Avg pred count: 26.9 vs GT 28.3\n"
          ]
        },
        {
          "output_type": "stream",
          "name": "stderr",
          "text": []
        },
        {
          "output_type": "stream",
          "name": "stdout",
          "text": [
            "📊 Train MAE: 4.817 | Val MAE: 26.396 | Val RMSE: 58.994\n",
            "🎯 Learning Rate: 0.000159\n",
            "⏳ No improvement for 2 epoch(s)\n",
            "\n",
            "📈 Epoch 37/120\n"
          ]
        },
        {
          "output_type": "stream",
          "name": "stderr",
          "text": []
        },
        {
          "output_type": "stream",
          "name": "stdout",
          "text": [
            "Avg pred count: 27.3 vs GT 28.6\n"
          ]
        },
        {
          "output_type": "stream",
          "name": "stderr",
          "text": []
        },
        {
          "output_type": "stream",
          "name": "stdout",
          "text": [
            "📊 Train MAE: 4.634 | Val MAE: 19.829 | Val RMSE: 52.858\n",
            "🎯 Learning Rate: 0.000157\n",
            "⏳ No improvement for 3 epoch(s)\n",
            "\n",
            "📈 Epoch 38/120\n"
          ]
        },
        {
          "output_type": "stream",
          "name": "stderr",
          "text": []
        },
        {
          "output_type": "stream",
          "name": "stdout",
          "text": [
            "Avg pred count: 27.4 vs GT 28.6\n"
          ]
        },
        {
          "output_type": "stream",
          "name": "stderr",
          "text": []
        },
        {
          "output_type": "stream",
          "name": "stdout",
          "text": [
            "📊 Train MAE: 4.643 | Val MAE: 17.526 | Val RMSE: 46.572\n",
            "🎯 Learning Rate: 0.000154\n",
            "✅ New best model saved! MAE: 17.526\n",
            "\n",
            "📈 Epoch 39/120\n"
          ]
        },
        {
          "output_type": "stream",
          "name": "stderr",
          "text": []
        },
        {
          "output_type": "stream",
          "name": "stdout",
          "text": [
            "Avg pred count: 27.6 vs GT 28.7\n"
          ]
        },
        {
          "output_type": "stream",
          "name": "stderr",
          "text": []
        },
        {
          "output_type": "stream",
          "name": "stdout",
          "text": [
            "📊 Train MAE: 4.408 | Val MAE: 23.216 | Val RMSE: 58.813\n",
            "🎯 Learning Rate: 0.000152\n",
            "⏳ No improvement for 1 epoch(s)\n",
            "\n",
            "📈 Epoch 40/120\n"
          ]
        },
        {
          "output_type": "stream",
          "name": "stderr",
          "text": []
        },
        {
          "output_type": "stream",
          "name": "stdout",
          "text": [
            "Avg pred count: 27.9 vs GT 29.0\n"
          ]
        },
        {
          "output_type": "stream",
          "name": "stderr",
          "text": []
        },
        {
          "output_type": "stream",
          "name": "stdout",
          "text": [
            "📊 Train MAE: 4.293 | Val MAE: 22.746 | Val RMSE: 55.008\n",
            "🎯 Learning Rate: 0.000150\n",
            "⏳ No improvement for 2 epoch(s)\n",
            "\n",
            "📈 Epoch 41/120\n"
          ]
        },
        {
          "output_type": "stream",
          "name": "stderr",
          "text": []
        },
        {
          "output_type": "stream",
          "name": "stdout",
          "text": [
            "Avg pred count: 26.2 vs GT 27.9\n"
          ]
        },
        {
          "output_type": "stream",
          "name": "stderr",
          "text": []
        },
        {
          "output_type": "stream",
          "name": "stdout",
          "text": [
            "📊 Train MAE: 5.401 | Val MAE: 23.492 | Val RMSE: 65.731\n",
            "🎯 Learning Rate: 0.000148\n",
            "⏳ No improvement for 3 epoch(s)\n",
            "\n",
            "📈 Epoch 42/120\n"
          ]
        },
        {
          "output_type": "stream",
          "name": "stderr",
          "text": []
        },
        {
          "output_type": "stream",
          "name": "stdout",
          "text": [
            "Avg pred count: 27.2 vs GT 28.5\n"
          ]
        },
        {
          "output_type": "stream",
          "name": "stderr",
          "text": []
        },
        {
          "output_type": "stream",
          "name": "stdout",
          "text": [
            "📊 Train MAE: 4.336 | Val MAE: 19.691 | Val RMSE: 52.691\n",
            "🎯 Learning Rate: 0.000145\n",
            "⏳ No improvement for 4 epoch(s)\n",
            "\n",
            "📈 Epoch 43/120\n"
          ]
        },
        {
          "output_type": "stream",
          "name": "stderr",
          "text": []
        },
        {
          "output_type": "stream",
          "name": "stdout",
          "text": [
            "Avg pred count: 28.1 vs GT 29.3\n"
          ]
        },
        {
          "output_type": "stream",
          "name": "stderr",
          "text": []
        },
        {
          "output_type": "stream",
          "name": "stdout",
          "text": [
            "📊 Train MAE: 4.378 | Val MAE: 25.108 | Val RMSE: 51.917\n",
            "🎯 Learning Rate: 0.000143\n",
            "⏳ No improvement for 5 epoch(s)\n",
            "\n",
            "📈 Epoch 44/120\n"
          ]
        },
        {
          "output_type": "stream",
          "name": "stderr",
          "text": []
        },
        {
          "output_type": "stream",
          "name": "stdout",
          "text": [
            "Avg pred count: 27.8 vs GT 28.9\n"
          ]
        },
        {
          "output_type": "stream",
          "name": "stderr",
          "text": []
        },
        {
          "output_type": "stream",
          "name": "stdout",
          "text": [
            "📊 Train MAE: 4.116 | Val MAE: 25.403 | Val RMSE: 68.218\n",
            "🎯 Learning Rate: 0.000141\n",
            "⏳ No improvement for 6 epoch(s)\n",
            "\n",
            "📈 Epoch 45/120\n"
          ]
        },
        {
          "output_type": "stream",
          "name": "stderr",
          "text": []
        },
        {
          "output_type": "stream",
          "name": "stdout",
          "text": [
            "Avg pred count: 28.6 vs GT 29.7\n"
          ]
        },
        {
          "output_type": "stream",
          "name": "stderr",
          "text": []
        },
        {
          "output_type": "stream",
          "name": "stdout",
          "text": [
            "📊 Train MAE: 4.311 | Val MAE: 17.070 | Val RMSE: 47.170\n",
            "🎯 Learning Rate: 0.000138\n",
            "✅ New best model saved! MAE: 17.070\n",
            "\n",
            "📈 Epoch 46/120\n"
          ]
        },
        {
          "output_type": "stream",
          "name": "stderr",
          "text": []
        },
        {
          "output_type": "stream",
          "name": "stdout",
          "text": [
            "Avg pred count: 27.9 vs GT 29.0\n"
          ]
        },
        {
          "output_type": "stream",
          "name": "stderr",
          "text": []
        },
        {
          "output_type": "stream",
          "name": "stdout",
          "text": [
            "📊 Train MAE: 3.843 | Val MAE: 18.667 | Val RMSE: 52.473\n",
            "🎯 Learning Rate: 0.000136\n",
            "⏳ No improvement for 1 epoch(s)\n",
            "\n",
            "📈 Epoch 47/120\n"
          ]
        },
        {
          "output_type": "stream",
          "name": "stderr",
          "text": []
        },
        {
          "output_type": "stream",
          "name": "stdout",
          "text": [
            "Avg pred count: 27.1 vs GT 28.1\n"
          ]
        },
        {
          "output_type": "stream",
          "name": "stderr",
          "text": []
        },
        {
          "output_type": "stream",
          "name": "stdout",
          "text": [
            "📊 Train MAE: 4.126 | Val MAE: 41.995 | Val RMSE: 86.555\n",
            "🎯 Learning Rate: 0.000133\n",
            "⏳ No improvement for 2 epoch(s)\n",
            "\n",
            "📈 Epoch 48/120\n"
          ]
        },
        {
          "output_type": "stream",
          "name": "stderr",
          "text": []
        },
        {
          "output_type": "stream",
          "name": "stdout",
          "text": [
            "Avg pred count: 28.0 vs GT 29.1\n"
          ]
        },
        {
          "output_type": "stream",
          "name": "stderr",
          "text": []
        },
        {
          "output_type": "stream",
          "name": "stdout",
          "text": [
            "📊 Train MAE: 3.984 | Val MAE: 17.088 | Val RMSE: 48.720\n",
            "🎯 Learning Rate: 0.000131\n",
            "⏳ No improvement for 3 epoch(s)\n",
            "\n",
            "📈 Epoch 49/120\n"
          ]
        },
        {
          "output_type": "stream",
          "name": "stderr",
          "text": []
        },
        {
          "output_type": "stream",
          "name": "stdout",
          "text": [
            "Avg pred count: 27.8 vs GT 28.7\n"
          ]
        },
        {
          "output_type": "stream",
          "name": "stderr",
          "text": []
        },
        {
          "output_type": "stream",
          "name": "stdout",
          "text": [
            "📊 Train MAE: 3.821 | Val MAE: 21.134 | Val RMSE: 59.224\n",
            "🎯 Learning Rate: 0.000128\n",
            "⏳ No improvement for 4 epoch(s)\n",
            "\n",
            "📈 Epoch 50/120\n"
          ]
        },
        {
          "output_type": "stream",
          "name": "stderr",
          "text": []
        },
        {
          "output_type": "stream",
          "name": "stdout",
          "text": [
            "Avg pred count: 27.4 vs GT 28.3\n"
          ]
        },
        {
          "output_type": "stream",
          "name": "stderr",
          "text": []
        },
        {
          "output_type": "stream",
          "name": "stdout",
          "text": [
            "📊 Train MAE: 3.457 | Val MAE: 23.572 | Val RMSE: 53.682\n",
            "🎯 Learning Rate: 0.000126\n",
            "⏳ No improvement for 5 epoch(s)\n",
            "\n",
            "📈 Epoch 51/120\n"
          ]
        },
        {
          "output_type": "stream",
          "name": "stderr",
          "text": []
        },
        {
          "output_type": "stream",
          "name": "stdout",
          "text": [
            "Avg pred count: 28.5 vs GT 29.5\n"
          ]
        },
        {
          "output_type": "stream",
          "name": "stderr",
          "text": []
        },
        {
          "output_type": "stream",
          "name": "stdout",
          "text": [
            "📊 Train MAE: 3.745 | Val MAE: 18.153 | Val RMSE: 47.623\n",
            "🎯 Learning Rate: 0.000123\n",
            "⏳ No improvement for 6 epoch(s)\n",
            "\n",
            "📈 Epoch 52/120\n"
          ]
        },
        {
          "output_type": "stream",
          "name": "stderr",
          "text": []
        },
        {
          "output_type": "stream",
          "name": "stdout",
          "text": [
            "Avg pred count: 28.2 vs GT 28.9\n"
          ]
        },
        {
          "output_type": "stream",
          "name": "stderr",
          "text": []
        },
        {
          "output_type": "stream",
          "name": "stdout",
          "text": [
            "📊 Train MAE: 3.669 | Val MAE: 16.330 | Val RMSE: 44.405\n",
            "🎯 Learning Rate: 0.000121\n",
            "✅ New best model saved! MAE: 16.330\n",
            "\n",
            "📈 Epoch 53/120\n"
          ]
        },
        {
          "output_type": "stream",
          "name": "stderr",
          "text": []
        },
        {
          "output_type": "stream",
          "name": "stdout",
          "text": [
            "Avg pred count: 28.2 vs GT 29.1\n"
          ]
        },
        {
          "output_type": "stream",
          "name": "stderr",
          "text": []
        },
        {
          "output_type": "stream",
          "name": "stdout",
          "text": [
            "📊 Train MAE: 3.496 | Val MAE: 16.636 | Val RMSE: 46.563\n",
            "🎯 Learning Rate: 0.000118\n",
            "⏳ No improvement for 1 epoch(s)\n",
            "\n",
            "📈 Epoch 54/120\n"
          ]
        },
        {
          "output_type": "stream",
          "name": "stderr",
          "text": []
        },
        {
          "output_type": "stream",
          "name": "stdout",
          "text": [
            "Avg pred count: 28.0 vs GT 28.9\n"
          ]
        },
        {
          "output_type": "stream",
          "name": "stderr",
          "text": []
        },
        {
          "output_type": "stream",
          "name": "stdout",
          "text": [
            "📊 Train MAE: 3.924 | Val MAE: 25.354 | Val RMSE: 71.440\n",
            "🎯 Learning Rate: 0.000116\n",
            "⏳ No improvement for 2 epoch(s)\n",
            "\n",
            "📈 Epoch 55/120\n"
          ]
        },
        {
          "output_type": "stream",
          "name": "stderr",
          "text": []
        },
        {
          "output_type": "stream",
          "name": "stdout",
          "text": [
            "Avg pred count: 29.0 vs GT 29.9\n"
          ]
        },
        {
          "output_type": "stream",
          "name": "stderr",
          "text": []
        },
        {
          "output_type": "stream",
          "name": "stdout",
          "text": [
            "📊 Train MAE: 3.813 | Val MAE: 17.607 | Val RMSE: 43.325\n",
            "🎯 Learning Rate: 0.000113\n",
            "⏳ No improvement for 3 epoch(s)\n",
            "\n",
            "📈 Epoch 56/120\n"
          ]
        },
        {
          "output_type": "stream",
          "name": "stderr",
          "text": []
        },
        {
          "output_type": "stream",
          "name": "stdout",
          "text": [
            "Avg pred count: 27.4 vs GT 28.2\n"
          ]
        },
        {
          "output_type": "stream",
          "name": "stderr",
          "text": []
        },
        {
          "output_type": "stream",
          "name": "stdout",
          "text": [
            "📊 Train MAE: 3.423 | Val MAE: 21.904 | Val RMSE: 48.450\n",
            "🎯 Learning Rate: 0.000110\n",
            "⏳ No improvement for 4 epoch(s)\n",
            "\n",
            "📈 Epoch 57/120\n"
          ]
        },
        {
          "output_type": "stream",
          "name": "stderr",
          "text": []
        },
        {
          "output_type": "stream",
          "name": "stdout",
          "text": [
            "Avg pred count: 28.2 vs GT 29.1\n"
          ]
        },
        {
          "output_type": "stream",
          "name": "stderr",
          "text": []
        },
        {
          "output_type": "stream",
          "name": "stdout",
          "text": [
            "📊 Train MAE: 3.691 | Val MAE: 18.912 | Val RMSE: 44.822\n",
            "🎯 Learning Rate: 0.000108\n",
            "⏳ No improvement for 5 epoch(s)\n",
            "\n",
            "📈 Epoch 58/120\n"
          ]
        },
        {
          "output_type": "stream",
          "name": "stderr",
          "text": []
        },
        {
          "output_type": "error",
          "ename": "KeyboardInterrupt",
          "evalue": "",
          "traceback": [
            "\u001b[0;31m---------------------------------------------------------------------------\u001b[0m",
            "\u001b[0;31mKeyboardInterrupt\u001b[0m                         Traceback (most recent call last)",
            "\u001b[0;32m/tmp/ipython-input-278716090.py\u001b[0m in \u001b[0;36m<cell line: 0>\u001b[0;34m()\u001b[0m\n\u001b[1;32m      4\u001b[0m \u001b[0;34m\u001b[0m\u001b[0m\n\u001b[1;32m      5\u001b[0m     \u001b[0;31m# Training phase\u001b[0m\u001b[0;34m\u001b[0m\u001b[0;34m\u001b[0m\u001b[0m\n\u001b[0;32m----> 6\u001b[0;31m     tr_mae = train_epoch(\n\u001b[0m\u001b[1;32m      7\u001b[0m         \u001b[0mmodel\u001b[0m\u001b[0;34m,\u001b[0m\u001b[0;34m\u001b[0m\u001b[0;34m\u001b[0m\u001b[0m\n\u001b[1;32m      8\u001b[0m         \u001b[0mtrain_loader\u001b[0m\u001b[0;34m,\u001b[0m\u001b[0;34m\u001b[0m\u001b[0;34m\u001b[0m\u001b[0m\n",
            "\u001b[0;32m/tmp/ipython-input-3280563225.py\u001b[0m in \u001b[0;36mtrain_epoch\u001b[0;34m(model, loader, device, optimizer, scaler, accum_steps, criterion, count_loss_alpha)\u001b[0m\n\u001b[1;32m     61\u001b[0m \u001b[0;34m\u001b[0m\u001b[0m\n\u001b[1;32m     62\u001b[0m         \u001b[0;32mwith\u001b[0m \u001b[0mtorch\u001b[0m\u001b[0;34m.\u001b[0m\u001b[0mno_grad\u001b[0m\u001b[0;34m(\u001b[0m\u001b[0;34m)\u001b[0m\u001b[0;34m:\u001b[0m\u001b[0;34m\u001b[0m\u001b[0;34m\u001b[0m\u001b[0m\n\u001b[0;32m---> 63\u001b[0;31m             \u001b[0mpc\u001b[0m \u001b[0;34m=\u001b[0m \u001b[0mpreds\u001b[0m\u001b[0;34m.\u001b[0m\u001b[0msum\u001b[0m\u001b[0;34m(\u001b[0m\u001b[0mdim\u001b[0m\u001b[0;34m=\u001b[0m\u001b[0;34m(\u001b[0m\u001b[0;36m1\u001b[0m\u001b[0;34m,\u001b[0m \u001b[0;36m2\u001b[0m\u001b[0;34m,\u001b[0m \u001b[0;36m3\u001b[0m\u001b[0;34m)\u001b[0m\u001b[0;34m)\u001b[0m\u001b[0;34m.\u001b[0m\u001b[0mdetach\u001b[0m\u001b[0;34m(\u001b[0m\u001b[0;34m)\u001b[0m\u001b[0;34m.\u001b[0m\u001b[0mcpu\u001b[0m\u001b[0;34m(\u001b[0m\u001b[0;34m)\u001b[0m\u001b[0;34m.\u001b[0m\u001b[0mnumpy\u001b[0m\u001b[0;34m(\u001b[0m\u001b[0;34m)\u001b[0m\u001b[0;34m\u001b[0m\u001b[0;34m\u001b[0m\u001b[0m\n\u001b[0m\u001b[1;32m     64\u001b[0m             \u001b[0mgc\u001b[0m \u001b[0;34m=\u001b[0m \u001b[0mdens\u001b[0m\u001b[0;34m.\u001b[0m\u001b[0msum\u001b[0m\u001b[0;34m(\u001b[0m\u001b[0mdim\u001b[0m\u001b[0;34m=\u001b[0m\u001b[0;34m(\u001b[0m\u001b[0;36m1\u001b[0m\u001b[0;34m,\u001b[0m \u001b[0;36m2\u001b[0m\u001b[0;34m,\u001b[0m \u001b[0;36m3\u001b[0m\u001b[0;34m)\u001b[0m\u001b[0;34m)\u001b[0m\u001b[0;34m.\u001b[0m\u001b[0mdetach\u001b[0m\u001b[0;34m(\u001b[0m\u001b[0;34m)\u001b[0m\u001b[0;34m.\u001b[0m\u001b[0mcpu\u001b[0m\u001b[0;34m(\u001b[0m\u001b[0;34m)\u001b[0m\u001b[0;34m.\u001b[0m\u001b[0mnumpy\u001b[0m\u001b[0;34m(\u001b[0m\u001b[0;34m)\u001b[0m\u001b[0;34m\u001b[0m\u001b[0;34m\u001b[0m\u001b[0m\n\u001b[1;32m     65\u001b[0m             \u001b[0mrunning_mae\u001b[0m \u001b[0;34m+=\u001b[0m \u001b[0mnp\u001b[0m\u001b[0;34m.\u001b[0m\u001b[0mabs\u001b[0m\u001b[0;34m(\u001b[0m\u001b[0mpc\u001b[0m \u001b[0;34m-\u001b[0m \u001b[0mgc\u001b[0m\u001b[0;34m)\u001b[0m\u001b[0;34m.\u001b[0m\u001b[0msum\u001b[0m\u001b[0;34m(\u001b[0m\u001b[0;34m)\u001b[0m\u001b[0;34m\u001b[0m\u001b[0;34m\u001b[0m\u001b[0m\n",
            "\u001b[0;31mKeyboardInterrupt\u001b[0m: "
          ]
        }
      ]
    },
    {
      "cell_type": "markdown",
      "id": "55052e6c",
      "metadata": {
        "id": "55052e6c"
      },
      "source": [
        "# Results Visualization and Analysis"
      ]
    },
    {
      "cell_type": "markdown",
      "id": "f2e33735",
      "metadata": {
        "id": "f2e33735"
      },
      "source": [
        "## Summarize Performance"
      ]
    },
    {
      "cell_type": "code",
      "execution_count": 11,
      "id": "87b6a0b9",
      "metadata": {
        "id": "87b6a0b9",
        "outputId": "4b523e98-a6bb-4d20-aa73-722d741ea34b",
        "colab": {
          "base_uri": "https://localhost:8080/",
          "height": 425
        }
      },
      "outputs": [
        {
          "output_type": "display_data",
          "data": {
            "text/plain": [
              "<Figure size 1500x500 with 3 Axes>"
            ],
            "image/png": "[encoded data removed]"
          },
          "metadata": {}
        },
        {
          "output_type": "stream",
          "name": "stdout",
          "text": [
            "📈 Training Statistics:\n",
            "   Final Train MAE: 3.691\n",
            "   Final Val MAE: 18.912\n",
            "   Final Val RMSE: 44.822\n",
            "   Best Val MAE: 16.330\n",
            "   Total Epochs: 57\n"
          ]
        }
      ],
      "source": [
        "# Plot training curves\n",
        "if not len(training_history['epoch']):\n",
        "    raise Exception(\"⚠️  No training history available. Please run the training loop first.\")\n",
        "\n",
        "plt.figure(figsize=(15, 5))\n",
        "\n",
        "# Training and validation MAE\n",
        "plt.subplot(1, 3, 1)\n",
        "plt.plot(training_history['epoch'], training_history['train_mae'], 'b-', label='Train MAE', linewidth=2)\n",
        "plt.plot(training_history['epoch'], training_history['val_mae'], 'r-', label='Val MAE', linewidth=2)\n",
        "plt.xlabel('Epoch')\n",
        "plt.ylabel('MAE')\n",
        "plt.title('Training Progress')\n",
        "plt.legend()\n",
        "plt.grid(True, alpha=0.3)\n",
        "\n",
        "# Validation RMSE\n",
        "plt.subplot(1, 3, 2)\n",
        "plt.plot(training_history['epoch'], training_history['val_rmse'], 'g-', label='Val RMSE', linewidth=2)\n",
        "plt.xlabel('Epoch')\n",
        "plt.ylabel('RMSE')\n",
        "plt.title('Validation RMSE')\n",
        "plt.legend()\n",
        "plt.grid(True, alpha=0.3)\n",
        "\n",
        "# Learning curve analysis\n",
        "plt.subplot(1, 3, 3)\n",
        "train_mae = np.array(training_history['train_mae'])\n",
        "val_mae = np.array(training_history['val_mae'])\n",
        "gap = val_mae - train_mae\n",
        "plt.plot(training_history['epoch'], gap, 'purple', label='Val-Train Gap', linewidth=2)\n",
        "plt.xlabel('Epoch')\n",
        "plt.ylabel('MAE Gap')\n",
        "plt.title('Generalization Gap')\n",
        "plt.legend()\n",
        "plt.grid(True, alpha=0.3)\n",
        "\n",
        "plt.tight_layout()\n",
        "plt.show()\n",
        "\n",
        "# Print final statistics\n",
        "print(\"📈 Training Statistics:\")\n",
        "print(f\"   Final Train MAE: {training_history['train_mae'][-1]:.3f}\")\n",
        "print(f\"   Final Val MAE: {training_history['val_mae'][-1]:.3f}\")\n",
        "print(f\"   Final Val RMSE: {training_history['val_rmse'][-1]:.3f}\")\n",
        "print(f\"   Best Val MAE: {min(training_history['val_mae']):.3f}\")\n",
        "print(f\"   Total Epochs: {len(training_history['epoch'])}\")"
      ]
    },
    {
      "cell_type": "markdown",
      "id": "d80e92c7",
      "metadata": {
        "id": "d80e92c7"
      },
      "source": [
        "## Correlation Coefficient"
      ]
    },
    {
      "cell_type": "code",
      "execution_count": 12,
      "id": "ed09f209",
      "metadata": {
        "id": "ed09f209",
        "outputId": "65c5720c-f836-4b94-f317-5bc3c14fe65e",
        "colab": {
          "base_uri": "https://localhost:8080/",
          "height": 1000
        }
      },
      "outputs": [
        {
          "output_type": "stream",
          "name": "stdout",
          "text": [
            "📁 Loading best model checkpoint...\n",
            "✅ Loaded model from epoch 52 with MAE 16.330\n",
            "\n",
            "🎯 Final Evaluation - Ground Truth vs Predictions:\n",
            "============================================================\n",
            "1722.jpg            : GT   10.0, Pred    8.4, Error   1.6\n",
            "915.jpg             : GT  175.0, Pred  137.3, Error  37.7\n",
            "6.jpg               : GT   10.0, Pred    8.6, Error   1.4\n",
            "1406.jpg            : GT  658.0, Pred  645.9, Error  12.1\n",
            "1293.jpg            : GT   29.0, Pred   31.1, Error   2.1\n",
            "1464.jpg            : GT   53.0, Pred   51.8, Error   1.2\n",
            "307.jpg             : GT   17.0, Pred   16.4, Error   0.6\n",
            "1790.jpg            : GT   96.0, Pred   86.2, Error   9.8\n",
            "418.jpg             : GT  351.0, Pred  274.0, Error  77.0\n",
            "1720.jpg            : GT  196.0, Pred  121.1, Error  74.9\n",
            "1891.jpg            : GT    3.0, Pred    3.9, Error   0.9\n",
            "1249.jpg            : GT   24.0, Pred   17.3, Error   6.7\n",
            "868.jpg             : GT   20.0, Pred   11.0, Error   9.0\n",
            "903.jpg             : GT   13.0, Pred    8.9, Error   4.1\n",
            "610.jpg             : GT    3.0, Pred    4.2, Error   1.2\n",
            "1484.jpg            : GT  161.0, Pred  163.1, Error   2.1\n",
            "396.jpg             : GT  163.0, Pred  160.7, Error   2.3\n",
            "475.jpg             : GT   10.0, Pred   14.2, Error   4.2\n",
            "536.jpg             : GT    6.0, Pred    6.1, Error   0.1\n",
            "5.jpg               : GT   23.0, Pred   20.0, Error   3.0\n",
            "1648.jpg            : GT   31.0, Pred   13.4, Error  17.6\n",
            "1382.jpg            : GT   21.0, Pred   15.8, Error   5.2\n",
            "1124.jpg            : GT   23.0, Pred   22.2, Error   0.8\n",
            "170.jpg             : GT    9.0, Pred   11.8, Error   2.8\n",
            "1639.jpg            : GT    8.0, Pred    5.6, Error   2.4\n",
            "1849.jpg            : GT   30.0, Pred   27.0, Error   3.0\n",
            "457.jpg             : GT   11.0, Pred    9.4, Error   1.6\n",
            "1100.jpg            : GT   10.0, Pred   10.6, Error   0.6\n",
            "1285.jpg            : GT   89.0, Pred   83.1, Error   5.9\n",
            "654.jpg             : GT   54.0, Pred   43.7, Error  10.3\n",
            "1528.jpg            : GT  176.0, Pred  157.3, Error  18.7\n",
            "1791.jpg            : GT   62.0, Pred   69.8, Error   7.8\n",
            "1077.jpg            : GT   42.0, Pred   34.7, Error   7.3\n",
            "61.jpg              : GT   11.0, Pred    9.7, Error   1.3\n",
            "405.jpg             : GT  468.0, Pred  469.1, Error   1.1\n",
            "1642.jpg            : GT   13.0, Pred   10.8, Error   2.2\n",
            "1786.jpg            : GT   11.0, Pred   11.7, Error   0.7\n",
            "1275.jpg            : GT   34.0, Pred   28.1, Error   5.9\n",
            "31.jpg              : GT  305.0, Pred  289.0, Error  16.0\n",
            "1097.jpg            : GT    7.0, Pred    8.1, Error   1.1\n",
            "1465.jpg            : GT    4.0, Pred    5.6, Error   1.6\n",
            "825.jpg             : GT  129.0, Pred  168.1, Error  39.1\n",
            "284.jpg             : GT   87.0, Pred   87.1, Error   0.1\n",
            "1809.jpg            : GT   65.0, Pred   58.2, Error   6.8\n",
            "1351.jpg            : GT   50.0, Pred   44.2, Error   5.8\n",
            "1142.jpg            : GT  511.0, Pred  496.4, Error  14.6\n",
            "80.jpg              : GT   24.0, Pred   20.3, Error   3.7\n",
            "1581.jpg            : GT    4.0, Pred    3.2, Error   0.8\n",
            "1311.jpg            : GT   21.0, Pred   21.5, Error   0.5\n",
            "1106.jpg            : GT  652.0, Pred  617.8, Error  34.2\n",
            "1239.jpg            : GT   57.0, Pred   63.1, Error   6.1\n",
            "595.jpg             : GT   50.0, Pred   44.0, Error   6.0\n",
            "1120.jpg            : GT   31.0, Pred   31.3, Error   0.3\n",
            "1481.jpg            : GT    7.0, Pred    4.8, Error   2.2\n",
            "1472.jpg            : GT   78.0, Pred   73.2, Error   4.8\n",
            "477.jpg             : GT  167.0, Pred  167.1, Error   0.1\n",
            "337.jpg             : GT   21.0, Pred   22.6, Error   1.6\n",
            "760.jpg             : GT    5.0, Pred    4.4, Error   0.6\n",
            "317.jpg             : GT   17.0, Pred   11.4, Error   5.6\n",
            "642.jpg             : GT   14.0, Pred    7.8, Error   6.2\n",
            "1649.jpg            : GT  299.0, Pred  205.5, Error  93.5\n",
            "631.jpg             : GT   40.0, Pred   37.8, Error   2.2\n",
            "494.jpg             : GT    9.0, Pred    8.5, Error   0.5\n",
            "675.jpg             : GT   29.0, Pred   27.0, Error   2.0\n",
            "288.jpg             : GT   17.0, Pred   18.3, Error   1.3\n",
            "1898.jpg            : GT   57.0, Pred   52.6, Error   4.4\n",
            "250.jpg             : GT    7.0, Pred    6.6, Error   0.4\n",
            "772.jpg             : GT    7.0, Pred    6.5, Error   0.5\n",
            "1043.jpg            : GT    3.0, Pred    3.5, Error   0.5\n",
            "1838.jpg            : GT  580.0, Pred  648.9, Error  68.9\n",
            "364.jpg             : GT   60.0, Pred   62.6, Error   2.6\n",
            "646.jpg             : GT  171.0, Pred  196.5, Error  25.5\n",
            "586.jpg             : GT  157.0, Pred  148.8, Error   8.2\n",
            "20.jpg              : GT   11.0, Pred    6.7, Error   4.3\n",
            "664.jpg             : GT  549.0, Pred  509.6, Error  39.4\n",
            "1091.jpg            : GT    6.0, Pred    4.5, Error   1.5\n",
            "51.jpg              : GT   11.0, Pred   10.5, Error   0.5\n",
            "990.jpg             : GT  318.0, Pred  243.2, Error  74.8\n",
            "1339.jpg            : GT   42.0, Pred   33.6, Error   8.4\n",
            "262.jpg             : GT    8.0, Pred    6.6, Error   1.4\n",
            "259.jpg             : GT  323.0, Pred  291.6, Error  31.4\n",
            "263.jpg             : GT    8.0, Pred    8.3, Error   0.3\n",
            "1331.jpg            : GT    7.0, Pred   11.3, Error   4.3\n",
            "415.jpg             : GT   23.0, Pred   20.1, Error   2.9\n",
            "1392.jpg            : GT    9.0, Pred    7.4, Error   1.6\n",
            "852.jpg             : GT    4.0, Pred    4.9, Error   0.9\n",
            "1565.jpg            : GT   18.0, Pred   19.8, Error   1.8\n",
            "479.jpg             : GT  987.0, Pred 1128.7, Error 141.7\n",
            "627.jpg             : GT  827.0, Pred  739.4, Error  87.6\n",
            "311.jpg             : GT 1456.0, Pred 1474.9, Error  18.9\n",
            "719.jpg             : GT   18.0, Pred   15.5, Error   2.5\n",
            "1082.jpg            : GT  161.0, Pred  150.2, Error  10.8\n",
            "300.jpg             : GT   26.0, Pred   25.1, Error   0.9\n",
            "142.jpg             : GT    9.0, Pred   12.8, Error   3.8\n",
            "745.jpg             : GT  476.0, Pred  495.9, Error  19.9\n",
            "342.jpg             : GT   10.0, Pred   11.2, Error   1.2\n",
            "1796.jpg            : GT   24.0, Pred   20.9, Error   3.1\n",
            "1613.jpg            : GT    4.0, Pred    4.5, Error   0.5\n",
            "413.jpg             : GT   11.0, Pred   12.8, Error   1.8\n",
            "754.jpg             : GT    6.0, Pred    6.3, Error   0.3\n",
            "1020.jpg            : GT   18.0, Pred   12.8, Error   5.2\n",
            "1578.jpg            : GT  227.0, Pred  214.6, Error  12.4\n",
            "336.jpg             : GT   75.0, Pred   71.4, Error   3.6\n",
            "76.jpg              : GT  157.0, Pred  149.1, Error   7.9\n",
            "67.jpg              : GT  222.0, Pred  179.6, Error  42.4\n",
            "1832.jpg            : GT    7.0, Pred    8.6, Error   1.6\n",
            "1360.jpg            : GT   27.0, Pred   25.1, Error   1.9\n",
            "1523.jpg            : GT 2673.0, Pred 2943.8, Error 270.8\n",
            "1191.jpg            : GT  211.0, Pred  216.9, Error   5.9\n",
            "927.jpg             : GT  468.0, Pred  556.7, Error  88.7\n",
            "1361.jpg            : GT   12.0, Pred   14.5, Error   2.5\n",
            "973.jpg             : GT   38.0, Pred   29.5, Error   8.5\n",
            "103.jpg             : GT  166.0, Pred  155.9, Error  10.1\n",
            "533.jpg             : GT    4.0, Pred    4.6, Error   0.6\n",
            "1098.jpg            : GT   16.0, Pred   14.6, Error   1.4\n",
            "430.jpg             : GT    7.0, Pred    6.7, Error   0.3\n",
            "492.jpg             : GT   12.0, Pred   10.6, Error   1.4\n",
            "175.jpg             : GT  175.0, Pred  198.5, Error  23.5\n",
            "1130.jpg            : GT   51.0, Pred   46.8, Error   4.2\n",
            "1079.jpg            : GT   14.0, Pred   13.1, Error   0.9\n",
            "714.jpg             : GT    5.0, Pred    4.0, Error   1.0\n",
            "352.jpg             : GT   11.0, Pred    9.2, Error   1.8\n",
            "429.jpg             : GT   10.0, Pred    8.6, Error   1.4\n",
            "257.jpg             : GT    9.0, Pred    9.2, Error   0.2\n",
            "465.jpg             : GT   12.0, Pred   11.5, Error   0.5\n",
            "1121.jpg            : GT   67.0, Pred   62.3, Error   4.7\n",
            "298.jpg             : GT   37.0, Pred   30.2, Error   6.8\n",
            "1369.jpg            : GT    7.0, Pred    4.9, Error   2.1\n",
            "770.jpg             : GT    8.0, Pred    6.2, Error   1.8\n",
            "1487.jpg            : GT   15.0, Pred   21.6, Error   6.6\n",
            "40.jpg              : GT   42.0, Pred   41.8, Error   0.2\n",
            "1841.jpg            : GT   28.0, Pred   17.5, Error  10.5\n",
            "402.jpg             : GT  654.0, Pred  611.3, Error  42.7\n",
            "561.jpg             : GT   20.0, Pred   16.3, Error   3.7\n",
            "540.jpg             : GT    7.0, Pred    6.8, Error   0.2\n",
            "1577.jpg            : GT 1956.0, Pred 1663.3, Error 292.7\n",
            "859.jpg             : GT   16.0, Pred   14.0, Error   2.0\n",
            "755.jpg             : GT   16.0, Pred   16.1, Error   0.1\n",
            "1313.jpg            : GT   39.0, Pred   33.3, Error   5.7\n",
            "1452.jpg            : GT   12.0, Pred   10.4, Error   1.6\n",
            "1848.jpg            : GT    7.0, Pred    6.3, Error   0.7\n",
            "1216.jpg            : GT    9.0, Pred    7.8, Error   1.2\n",
            "384.jpg             : GT    7.0, Pred    5.8, Error   1.2\n",
            "165.jpg             : GT   19.0, Pred   17.6, Error   1.4\n",
            "822.jpg             : GT  143.0, Pred  122.1, Error  20.9\n",
            "1030.jpg            : GT    5.0, Pred    3.0, Error   2.0\n",
            "511.jpg             : GT   11.0, Pred   10.4, Error   0.6\n",
            "1571.jpg            : GT   51.0, Pred   58.5, Error   7.5\n",
            "763.jpg             : GT    2.0, Pred    3.1, Error   1.1\n",
            "648.jpg             : GT    9.0, Pred    8.5, Error   0.5\n",
            "766.jpg             : GT  275.0, Pred  414.1, Error 139.1\n",
            "965.jpg             : GT   13.0, Pred   12.7, Error   0.3\n",
            "1742.jpg            : GT    5.0, Pred    7.8, Error   2.8\n",
            "926.jpg             : GT    7.0, Pred    7.7, Error   0.7\n",
            "164.jpg             : GT   46.0, Pred   42.6, Error   3.4\n",
            "52.jpg              : GT  507.0, Pred  622.0, Error 115.0\n",
            "577.jpg             : GT   37.0, Pred   27.3, Error   9.7\n",
            "22.jpg              : GT  133.0, Pred  119.0, Error  14.0\n",
            "1118.jpg            : GT    8.0, Pred    7.5, Error   0.5\n",
            "948.jpg             : GT   12.0, Pred   12.2, Error   0.2\n",
            "1733.jpg            : GT  196.0, Pred  179.7, Error  16.3\n",
            "987.jpg             : GT   91.0, Pred   79.7, Error  11.3\n",
            "800.jpg             : GT 1045.0, Pred  915.5, Error 129.5\n",
            "1783.jpg            : GT   55.0, Pred   50.3, Error   4.7\n",
            "12.jpg              : GT   19.0, Pred   17.8, Error   1.2\n",
            "1671.jpg            : GT   27.0, Pred   28.0, Error   1.0\n",
            "970.jpg             : GT    7.0, Pred    7.8, Error   0.8\n",
            "881.jpg             : GT   97.0, Pred   91.1, Error   5.9\n",
            "499.jpg             : GT   11.0, Pred   12.7, Error   1.7\n",
            "692.jpg             : GT   12.0, Pred   11.0, Error   1.0\n",
            "1376.jpg            : GT   10.0, Pred    9.6, Error   0.4\n",
            "573.jpg             : GT   19.0, Pred   15.1, Error   3.9\n",
            "172.jpg             : GT   55.0, Pred   47.8, Error   7.2\n",
            "1566.jpg            : GT   41.0, Pred   35.7, Error   5.3\n",
            "1661.jpg            : GT   82.0, Pred   68.4, Error  13.6\n",
            "744.jpg             : GT   15.0, Pred   15.0, Error   0.0\n",
            "459.jpg             : GT  102.0, Pred   95.8, Error   6.2\n",
            "1705.jpg            : GT   11.0, Pred    8.9, Error   2.1\n",
            "1611.jpg            : GT   42.0, Pred   36.2, Error   5.8\n",
            "808.jpg             : GT  208.0, Pred  189.8, Error  18.2\n",
            "717.jpg             : GT   36.0, Pred   30.7, Error   5.3\n",
            "1303.jpg            : GT    2.0, Pred    3.3, Error   1.3\n",
            "637.jpg             : GT 1324.0, Pred 1343.5, Error  19.5\n",
            "368.jpg             : GT    8.0, Pred    7.9, Error   0.1\n",
            "340.jpg             : GT   13.0, Pred   13.8, Error   0.8\n",
            "1673.jpg            : GT 1603.0, Pred 1652.1, Error  49.1\n",
            "597.jpg             : GT   32.0, Pred   26.3, Error   5.7\n",
            "271.jpg             : GT 1023.0, Pred  830.9, Error 192.1\n",
            "995.jpg             : GT   16.0, Pred   17.1, Error   1.1\n",
            "427.jpg             : GT  728.0, Pred  521.3, Error 206.7\n",
            "\n",
            "📊 Final Metrics:\n",
            "   MAE:  16.330\n",
            "   MSE:  1971.781\n",
            "   RMSE: 44.405\n"
          ]
        },
        {
          "output_type": "display_data",
          "data": {
            "text/plain": [
              "<Figure size 1000x800 with 1 Axes>"
            ],
            "image/png": "[encoded data removed]"
          },
          "metadata": {}
        },
        {
          "output_type": "stream",
          "name": "stdout",
          "text": [
            "\n",
            "🔗 Correlation coefficient: 0.992\n"
          ]
        }
      ],
      "source": [
        "# Load best model for final evaluation\n",
        "if os.path.exists(config['save_path']):\n",
        "    print(\"📁 Loading best model checkpoint...\")\n",
        "    checkpoint = torch.load(config['save_path'], map_location=device, weights_only=False)\n",
        "    model.load_state_dict(checkpoint[\"model\"])\n",
        "    print(f\"✅ Loaded model from epoch {checkpoint['epoch']} with MAE {checkpoint['val_mae']:.3f}\")\n",
        "\n",
        "# Final evaluation with detailed predictions\n",
        "print(\"\\n🎯 Final Evaluation - Ground Truth vs Predictions:\")\n",
        "print(\"=\"*60)\n",
        "\n",
        "model.eval()\n",
        "predictions = []\n",
        "ground_truths = []\n",
        "image_names = []\n",
        "\n",
        "with torch.no_grad():\n",
        "    for batch_idx, (imgs, dens, _) in enumerate(val_loader):\n",
        "        imgs = imgs.to(device)\n",
        "        dens = dens.to(device)\n",
        "        pred = model(imgs)\n",
        "\n",
        "        pred_cnt_batch = pred.sum((1, 2, 3))\n",
        "        gt_cnt_batch = dens.sum((1, 2, 3))\n",
        "\n",
        "        # Store results\n",
        "        for j in range(pred_cnt_batch.size(0)):\n",
        "            idx = batch_idx * config['batch_size'] + j\n",
        "            if idx < len(val_ds.img_paths):\n",
        "                image_name = os.path.basename(val_ds.img_paths[idx])\n",
        "                image_names.append(image_name)\n",
        "                predictions.append(pred_cnt_batch[j].item())\n",
        "                ground_truths.append(gt_cnt_batch[j].item())\n",
        "\n",
        "                print(f\"{image_name:20s}: GT {gt_cnt_batch[j].item():6.1f}, Pred {pred_cnt_batch[j].item():6.1f}, \"\n",
        "                      f\"Error {abs(gt_cnt_batch[j].item() - pred_cnt_batch[j].item()):5.1f}\")\n",
        "\n",
        "# Calculate final metrics\n",
        "if len(predictions) <= 0:\n",
        "    raise Exception(\"⚠️  No validation data processed.\")\n",
        "\n",
        "predictions = np.array(predictions)\n",
        "ground_truths = np.array(ground_truths)\n",
        "\n",
        "mae = np.mean(np.abs(predictions - ground_truths))\n",
        "mse = np.mean((predictions - ground_truths)**2)\n",
        "rmse = np.sqrt(mse)\n",
        "\n",
        "print(\"\\n📊 Final Metrics:\")\n",
        "print(f\"   MAE:  {mae:.3f}\")\n",
        "print(f\"   MSE:  {mse:.3f}\")\n",
        "print(f\"   RMSE: {rmse:.3f}\")\n",
        "\n",
        "# Scatter plot\n",
        "plt.figure(figsize=(10, 8))\n",
        "plt.scatter(ground_truths, predictions, alpha=0.6, s=50)\n",
        "\n",
        "# Perfect prediction line\n",
        "max_val = max(np.max(ground_truths), np.max(predictions))\n",
        "min_val = min(np.min(ground_truths), np.min(predictions))\n",
        "plt.plot([min_val, max_val], [min_val, max_val], 'r--', linewidth=2, label='Perfect Prediction')\n",
        "\n",
        "plt.xlabel('Ground Truth Count')\n",
        "plt.ylabel('Predicted Count')\n",
        "plt.title(f'Ground Truth vs Predictions (MAE: {mae:.2f})')\n",
        "plt.legend()\n",
        "plt.grid(True, alpha=0.3)\n",
        "\n",
        "# Add correlation coefficient\n",
        "correlation = np.corrcoef(ground_truths, predictions)[0, 1]\n",
        "plt.text(\n",
        "    0.05,\n",
        "    0.95,\n",
        "    f'Correlation: {correlation:.3f}',\n",
        "    transform=plt.gca().transAxes,\n",
        "    bbox=dict(boxstyle=\"round\", facecolor='wheat', alpha=0.5)\n",
        ")\n",
        "\n",
        "plt.tight_layout()\n",
        "plt.show()\n",
        "\n",
        "print(f\"\\n🔗 Correlation coefficient: {correlation:.3f}\")"
      ]
    },
    {
      "cell_type": "markdown",
      "id": "9525b741",
      "metadata": {
        "id": "9525b741"
      },
      "source": [
        "## Density Map Visualization"
      ]
    },
    {
      "cell_type": "code",
      "execution_count": null,
      "id": "1437ac6b",
      "metadata": {
        "id": "1437ac6b"
      },
      "outputs": [],
      "source": [
        "# Visualize sample predictions with density maps\n",
        "def visualize_predictions(\n",
        "    model,\n",
        "    dataset,\n",
        "    device,\n",
        "    num_samples=3\n",
        ") -> None:\n",
        "    \"\"\"Visualize model predictions with density maps.\"\"\"\n",
        "    model.eval()\n",
        "\n",
        "    fig, axes = plt.subplots(num_samples, 3, figsize=(15, 5*num_samples))\n",
        "    if num_samples == 1:\n",
        "        axes = axes.reshape(1, -1)\n",
        "\n",
        "    with torch.no_grad():\n",
        "        for i in range(num_samples):\n",
        "            if i >= len(dataset):\n",
        "                break\n",
        "\n",
        "            # Get sample\n",
        "            img_tensor, gt_density, gt_count = dataset[i]\n",
        "            img_tensor = img_tensor.unsqueeze(0).to(device)\n",
        "\n",
        "            # Model prediction\n",
        "            pred_density = model(img_tensor)\n",
        "\n",
        "            # Convert to numpy\n",
        "            img_np = img_tensor.squeeze().cpu().permute(1, 2, 0).numpy()\n",
        "            img_np = img_np * np.array(IMAGENET_STD) + np.array(IMAGENET_MEAN)  # Denormalize\n",
        "            img_np = np.clip(img_np, 0, 1)\n",
        "\n",
        "            gt_density_np = gt_density.squeeze().numpy()\n",
        "            pred_density_np = pred_density.squeeze().cpu().numpy()\n",
        "\n",
        "            # Calculate counts\n",
        "            gt_count_val = gt_density_np.sum()\n",
        "            pred_count_val = pred_density_np.sum()\n",
        "\n",
        "            # Plot original image\n",
        "            axes[i, 0].imshow(img_np)\n",
        "            axes[i, 0].set_title(f'Original Image')\n",
        "            axes[i, 0].axis('off')\n",
        "\n",
        "            # Plot ground truth density\n",
        "            im1 = axes[i, 1].imshow(gt_density_np, cmap='jet')\n",
        "            axes[i, 1].set_title(f'GT Density (Count: {gt_count_val:.1f})')\n",
        "            axes[i, 1].axis('off')\n",
        "            plt.colorbar(im1, ax=axes[i, 1], fraction=0.046, pad=0.04)\n",
        "\n",
        "            # Plot predicted density\n",
        "            im2 = axes[i, 2].imshow(pred_density_np, cmap='jet')\n",
        "            axes[i, 2].set_title(f'Pred Density (Count: {pred_count_val:.1f})')\n",
        "            axes[i, 2].axis('off')\n",
        "            plt.colorbar(im2, ax=axes[i, 2], fraction=0.046, pad=0.04)\n",
        "\n",
        "    plt.tight_layout()\n",
        "    plt.show()\n",
        "\n",
        "# Visualize predictions if validation dataset exists\n",
        "try:\n",
        "    print(\"🎨 Visualizing sample predictions...\")\n",
        "    visualize_predictions(model, val_ds, device, num_samples=20)\n",
        "except NameError:\n",
        "    print(\"⚠️  Validation dataset not available. Please run the data preparation cells first.\")\n",
        "\n",
        "print(\"\\n✅ Training and evaluation complete!\")\n",
        "print(f\"🎯 Final model saved at: {config['save_path']}\")\n",
        "print(\"📊 Training history and visualizations have been generated above.\")"
      ]
    },
    {
      "cell_type": "markdown",
      "id": "3dc00417",
      "metadata": {
        "id": "3dc00417"
      },
      "source": [
        "# Test Prediction and Generate Submission"
      ]
    },
    {
      "cell_type": "code",
      "execution_count": null,
      "id": "79e11a9e",
      "metadata": {
        "id": "79e11a9e"
      },
      "outputs": [],
      "source": [
        "# Create test dataset for inference\n",
        "class TestDataset(Dataset):\n",
        "    def __init__(\n",
        "        self,\n",
        "        img_dir: str,\n",
        "        base_size: int = 768\n",
        "    ) -> None:\n",
        "        self.img_paths: List[str] = sorted(glob(os.path.join(img_dir, \"*.*\")))\n",
        "        self.base_size: int = base_size\n",
        "        self.to_tensor = transforms.ToTensor()\n",
        "        self.normalize = transforms.Normalize(mean=IMAGENET_MEAN, std=IMAGENET_STD)\n",
        "\n",
        "    def __len__(self) -> int:\n",
        "        return len(self.img_paths)\n",
        "\n",
        "    def __getitem__(self, index: int) -> Tuple[Tensor, str]:\n",
        "        img_path: str = self.img_paths[index]\n",
        "        img = imread_rgb(img_path)\n",
        "        canvas, _, _, _ = letterbox(img, target=self.base_size)\n",
        "\n",
        "        t: Tensor = self.to_tensor(canvas)\n",
        "        t = self.normalize(t)\n",
        "\n",
        "        image_name: str = os.path.basename(img_path)\n",
        "        return t, image_name\n",
        "\n",
        "\n",
        "# Setup test dataset and loader\n",
        "test_ds = TestDataset(config['test_dir'], base_size=config['base_size'])\n",
        "test_loader = DataLoader(\n",
        "    test_ds,\n",
        "    batch_size=16,\n",
        "    shuffle=False,\n",
        "    num_workers=config['num_workers'],\n",
        "    pin_memory=True\n",
        ")\n",
        "\n",
        "print(f\"📦 Test dataset: {len(test_ds)} samples\")\n",
        "print(f\"🚀 Test loader: {len(test_loader)} batches\")\n",
        "\n",
        "\n",
        "def generate_submission(\n",
        "    model: torch.nn.Module,\n",
        "    test_loader: DataLoader,\n",
        "    output_file: str = \"submission.csv\"\n",
        ") -> pd.DataFrame:\n",
        "    model.eval()\n",
        "    predictions: List[int] = []\n",
        "    image_names: List[str] = []\n",
        "\n",
        "    with torch.no_grad():\n",
        "        for images, names in test_loader:\n",
        "            images = images.to(device)\n",
        "            pred: Tensor = model(images)\n",
        "            batch_preds: Tensor = pred.sum((1, 2, 3))\n",
        "\n",
        "            # Round the result so predicted_count will store as int\n",
        "            predictions.extend(batch_preds.cpu().numpy().round().astype(int).tolist())\n",
        "            image_names.extend(names)\n",
        "\n",
        "    submission_df: pd.DataFrame = pd.DataFrame({\n",
        "        \"image_id\": image_names,\n",
        "        \"predicted_count\": predictions\n",
        "    })\n",
        "\n",
        "    # Sort by image ID (assuming numeric names)\n",
        "    submission_df[\"sort_key\"] = submission_df[\"image_id\"].apply(\n",
        "        lambda x: int(os.path.splitext(x)[0])\n",
        "    )\n",
        "    submission_df = (\n",
        "        submission_df\n",
        "        .sort_values(\"sort_key\")\n",
        "        .drop(\"sort_key\", axis=1)\n",
        "        .reset_index(drop=True)\n",
        "    )\n",
        "\n",
        "    submission_df.to_csv(output_file, index=False)\n",
        "    print(f\"✅ Submission saved to {output_file}\")\n",
        "    return submission_df\n",
        "\n",
        "\n",
        "# Generate submission\n",
        "submission_df = generate_submission(model, test_loader)\n",
        "print(\"\\n📋 Sample submission:\")\n",
        "submission_df.head(50)"
      ]
    },
    {
      "cell_type": "markdown",
      "source": [
        "# Saving Model"
      ],
      "metadata": {
        "id": "9Zj4yPk9r9I1"
      },
      "id": "9Zj4yPk9r9I1"
    },
    {
      "cell_type": "code",
      "source": [
        "# Model Saving for Competition Submission\n",
        "print(\"💾 Saving trained model\")\n",
        "\n",
        "# Save complete model (architecture + weights)\n",
        "model_complete_path = os.path.join(config['save_dir'], 'cognivio_sfcn_model_complete.pth')\n",
        "torch.save(model, model_complete_path)\n",
        "print(f\"✅ Complete model saved to: {model_complete_path}\")\n",
        "\n",
        "# Save model state dict only\n",
        "model_weights_path = os.path.join(config['save_dir'], 'cognivio_sfcn_model_weights.pth')\n",
        "torch.save(model.state_dict(), model_weights_path)\n",
        "print(f\"✅ Model weights saved to: {model_weights_path}\")"
      ],
      "metadata": {
        "id": "hkZ6ji1Fr-uA"
      },
      "id": "hkZ6ji1Fr-uA",
      "execution_count": null,
      "outputs": []
    }
  ],
  "metadata": {
    "language_info": {
      "name": "python"
    },
    "colab": {
      "provenance": [],
      "gpuType": "T4",
      "include_colab_link": true
    },
    "accelerator": "GPU",
    "kernelspec": {
      "name": "python3",
      "display_name": "Python 3"
    }
  },
  "nbformat": 4,
  "nbformat_minor": 5
}